{
  "nbformat": 4,
  "nbformat_minor": 0,
  "metadata": {
    "colab": {
      "name": "Review_Classification_NN.ipynb",
      "version": "0.3.2",
      "provenance": [],
      "collapsed_sections": []
    },
    "kernelspec": {
      "name": "python3",
      "display_name": "Python 3"
    },
    "accelerator": "GPU"
  },
  "cells": [
    {
      "metadata": {
        "id": "WSUmtT5f3KBv",
        "colab_type": "text"
      },
      "cell_type": "markdown",
      "source": [
        "# IMDB movie reviews classification - Part 2"
      ]
    },
    {
      "metadata": {
        "id": "B_2qj6Df3T4G",
        "colab_type": "text"
      },
      "cell_type": "markdown",
      "source": [
        "## What about using more powerful stuff this time?\n",
        "\n",
        "In the previous post about IMDB movie reviews classification, we used a linear model to classify movie reviews. We achieved 87% accuracy on the test set, which is already great. However, we saw that this linear model was based on bags of words and hence was enable to capture the syntax of our reviews. As a result, and knowing that Neural Networks have set new benchmarks in Natural Language Processing tasks in recent years, is there a way to improve our classification performance? \n",
        "\n",
        "The purpose of this post is to take the same data set but to apply a whole different set of Natural Language Processing tools: Neural Networks. "
      ]
    },
    {
      "metadata": {
        "id": "dSTmQ56O-chw",
        "colab_type": "text"
      },
      "cell_type": "markdown",
      "source": [
        "## 1. Load Data \n",
        "\n",
        "As before, the reviews data come from the keras datasets. We will also use keras to build our Neural Networks."
      ]
    },
    {
      "metadata": {
        "id": "UPm65ngR1DQy",
        "colab_type": "code",
        "outputId": "f5126e30-893a-473f-91b6-ae73c207f902",
        "colab": {
          "base_uri": "https://localhost:8080/",
          "height": 34
        }
      },
      "cell_type": "code",
      "source": [
        "import numpy as np\n",
        "import matplotlib.pyplot as plt\n",
        "import pandas as pd\n",
        "\n",
        "import gensim.downloader as api\n",
        "\n",
        "from keras.datasets import imdb\n",
        "from keras.preprocessing.sequence import pad_sequences\n",
        "from keras import Sequential\n",
        "from keras.layers import Conv1D, Dense, Dropout, Embedding, Flatten, GlobalAveragePooling1D, GlobalMaxPooling1D, GRU, LSTM, MaxPooling1D"
      ],
      "execution_count": 1,
      "outputs": [
        {
          "output_type": "stream",
          "text": [
            "Using TensorFlow backend.\n"
          ],
          "name": "stderr"
        }
      ]
    },
    {
      "metadata": {
        "id": "I4XN6agF71h2",
        "colab_type": "code",
        "outputId": "a9fb1ace-a6df-448c-e038-9f44a94017ad",
        "colab": {
          "base_uri": "https://localhost:8080/",
          "height": 85
        }
      },
      "cell_type": "code",
      "source": [
        "vocab_size = 3000\n",
        "(train_data, train_labels), (test_data, test_labels) = imdb.load_data(num_words=vocab_size)\n",
        "word_to_index = imdb.get_word_index()"
      ],
      "execution_count": 2,
      "outputs": [
        {
          "output_type": "stream",
          "text": [
            "Downloading data from https://s3.amazonaws.com/text-datasets/imdb.npz\n",
            "17465344/17464789 [==============================] - 2s 0us/step\n",
            "Downloading data from https://s3.amazonaws.com/text-datasets/imdb_word_index.json\n",
            "1646592/1641221 [==============================] - 1s 1us/step\n"
          ],
          "name": "stdout"
        }
      ]
    },
    {
      "metadata": {
        "id": "4iawSZAK_aEc",
        "colab_type": "text"
      },
      "cell_type": "markdown",
      "source": [
        "## 2. Reformating the reviews"
      ]
    },
    {
      "metadata": {
        "id": "JiUO_kjNIrhK",
        "colab_type": "text"
      },
      "cell_type": "markdown",
      "source": [
        "### Tokenizing\n",
        "\n",
        "As we saw in the previous post, there is not much data preparation to be done here because this Keras package does most of the work for us beforehand. As can be seen below, the tokenizing step has already been done for us by Keras (nice!), which means that words have been converted to numbers. "
      ]
    },
    {
      "metadata": {
        "id": "QF_lwC1076q7",
        "colab_type": "code",
        "outputId": "ace540b3-f766-470f-d36f-241cf9c5edc4",
        "colab": {
          "base_uri": "https://localhost:8080/",
          "height": 54
        }
      },
      "cell_type": "code",
      "source": [
        "print(train_data[0])"
      ],
      "execution_count": 3,
      "outputs": [
        {
          "output_type": "stream",
          "text": [
            "[1, 14, 22, 16, 43, 530, 973, 1622, 1385, 65, 458, 2, 66, 2, 4, 173, 36, 256, 5, 25, 100, 43, 838, 112, 50, 670, 2, 9, 35, 480, 284, 5, 150, 4, 172, 112, 167, 2, 336, 385, 39, 4, 172, 2, 1111, 17, 546, 38, 13, 447, 4, 192, 50, 16, 6, 147, 2025, 19, 14, 22, 4, 1920, 2, 469, 4, 22, 71, 87, 12, 16, 43, 530, 38, 76, 15, 13, 1247, 4, 22, 17, 515, 17, 12, 16, 626, 18, 2, 5, 62, 386, 12, 8, 316, 8, 106, 5, 4, 2223, 2, 16, 480, 66, 2, 33, 4, 130, 12, 16, 38, 619, 5, 25, 124, 51, 36, 135, 48, 25, 1415, 33, 6, 22, 12, 215, 28, 77, 52, 5, 14, 407, 16, 82, 2, 8, 4, 107, 117, 2, 15, 256, 4, 2, 7, 2, 5, 723, 36, 71, 43, 530, 476, 26, 400, 317, 46, 7, 4, 2, 1029, 13, 104, 88, 4, 381, 15, 297, 98, 32, 2071, 56, 26, 141, 6, 194, 2, 18, 4, 226, 22, 21, 134, 476, 26, 480, 5, 144, 30, 2, 18, 51, 36, 28, 224, 92, 25, 104, 4, 226, 65, 16, 38, 1334, 88, 12, 16, 283, 5, 16, 2, 113, 103, 32, 15, 16, 2, 19, 178, 32]\n"
          ],
          "name": "stdout"
        }
      ]
    },
    {
      "metadata": {
        "id": "1Y75l4NkDe47",
        "colab_type": "text"
      },
      "cell_type": "markdown",
      "source": [
        "If you want to circle back to the actual words of these reviews, they are all stored in the word_to_index dictionary. This is how you can convert the tokenized version of the reviews back to actual text."
      ]
    },
    {
      "metadata": {
        "id": "3LbOuFnR9t4i",
        "colab_type": "code",
        "colab": {}
      },
      "cell_type": "code",
      "source": [
        "word_to_index = dict([(key,(value+3)) for key,value in word_to_index.items()]) \n",
        "word_to_index[\"<PAD>\"] = 0\n",
        "word_to_index[\"<START>\"] = 1\n",
        "word_to_index[\"<UNK>\"] = 2  # unknown\n",
        "word_to_index[\"<UNUSED>\"] = 3\n",
        "\n",
        "index_to_word = dict([(value, key) for (key, value) in word_to_index.items()])\n",
        "\n",
        "def to_words(review):\n",
        "  return [index_to_word[i] for i in review]"
      ],
      "execution_count": 0,
      "outputs": []
    },
    {
      "metadata": {
        "id": "AlkXSDHTDoff",
        "colab_type": "code",
        "outputId": "3cc9f48e-47ef-430a-a9b1-16a860f6327c",
        "colab": {
          "base_uri": "https://localhost:8080/",
          "height": 71
        }
      },
      "cell_type": "code",
      "source": [
        "print('label: %s' % train_labels[0])\n",
        "print('review: %s' % ' '.join(to_words(train_data[0])))"
      ],
      "execution_count": 5,
      "outputs": [
        {
          "output_type": "stream",
          "text": [
            "label: 1\n",
            "review: <START> this film was just brilliant casting location scenery story direction <UNK> really <UNK> the part they played and you could just imagine being there robert <UNK> is an amazing actor and now the same being director <UNK> father came from the same <UNK> island as myself so i loved the fact there was a real connection with this film the witty <UNK> throughout the film were great it was just brilliant so much that i bought the film as soon as it was released for <UNK> and would recommend it to everyone to watch and the fly <UNK> was amazing really <UNK> at the end it was so sad and you know what they say if you cry at a film it must have been good and this definitely was also <UNK> to the two little <UNK> that played the <UNK> of <UNK> and paul they were just brilliant children are often left out of the <UNK> list i think because the stars that play them all grown up are such a big <UNK> for the whole film but these children are amazing and should be <UNK> for what they have done don't you think the whole story was so lovely because it was true and was <UNK> life after all that was <UNK> with us all\n"
          ],
          "name": "stdout"
        }
      ]
    },
    {
      "metadata": {
        "id": "Uan3qi3ND93c",
        "colab_type": "text"
      },
      "cell_type": "markdown",
      "source": [
        "### Padding\n",
        "\n",
        "Don't be upset about all the UNK tags that you can see, this is just because we limited the vocabulary size to 3000 when we loaded the data. UNK basically means that it would have been a rare word or a name (there are lots of actors names in the reviews as you can imagine).\n",
        "\n",
        "The data exploration part done in the previous post had shown us that the length of the reviews are varying a lot. This is an issue for the algorithms we want to use here, as they need all text inputs to have the same number of words. We can get around this issue thanks to padding. Padding essentially just ensures each list of tokens has the same length by either truncating or adding 0's at the end of the review. Note that 0 corresponds to 'PAD' in the word_to_index dictionary we have defined above!\n",
        "\n",
        "When using the bag of words in our previous post, we restrained ourselves to the first 500 words. To ensure a fair comparison, let us use padding here with the same cap."
      ]
    },
    {
      "metadata": {
        "id": "c5JAXFNLDt0i",
        "colab_type": "code",
        "colab": {}
      },
      "cell_type": "code",
      "source": [
        "max_len = 500\n",
        "\n",
        "train_data_padded = pad_sequences(train_data, maxlen=max_len, padding='post')\n",
        "test_data_padded = pad_sequences(test_data, maxlen=max_len, padding='post')"
      ],
      "execution_count": 0,
      "outputs": []
    },
    {
      "metadata": {
        "id": "KxS7Xd8aId4Q",
        "colab_type": "text"
      },
      "cell_type": "markdown",
      "source": [
        "Now we're all set for the modeling part!"
      ]
    },
    {
      "metadata": {
        "id": "ug_C-EQGIg8m",
        "colab_type": "text"
      },
      "cell_type": "markdown",
      "source": [
        "## 3. Classification with Dense Neural Networks\n",
        "\n",
        "When building a Neural Network for Natural Language Processing, it is important to keep in mind that there are two steps:\n",
        "\n",
        "- First, the text gets converted to Embeddings. In other words, each word gets assigned a vector, and a sentence (in our case, a review) gets represented by a matrix which is the concatenation of all these vectors\n",
        "- These embeddings are then connected to a Neural Network with hidden layers\n",
        "\n",
        "Embeddings play a key role in NLP models. There are many differences with the vectorized Bag of Words we saw in the previous post. To keep it short, the main advantage is that it should be able to capture semantics by representing each word in a vector space. However, the main drawback is that they require to learn a lot of parameters and a lot of data to do so. Suppose we want to have an embedding size of 32 and 3,000 words in our vocabulary, this implies we will have to learn 96,000 parameters. This is not an issue per se, as a matter of fact, it is still reasonable compared to other mainstream neural networks. However, it means we need a lot of data to train these embeddings accurately. As a result, there are two ways to go at this stage:\n",
        "\n",
        "- Either you want to train your own embeddings from scratch...\n",
        "- Or you use embeddings that have been computed previously on larger datasets. This is called transfer learning, because you transfer parameters from previous machine learning tasks to a new one.\n",
        "\n",
        "The latter option has grown popular as it usually saves time and allows training on much larger datasets than just our reviews, which might yield better results. But let us check for ourselves if it really adds anything here...\n",
        "\n"
      ]
    },
    {
      "metadata": {
        "id": "bf7Tj5xtJdn0",
        "colab_type": "text"
      },
      "cell_type": "markdown",
      "source": [
        "### Learning Embeddings from scratch\n",
        "\n"
      ]
    },
    {
      "metadata": {
        "id": "ZdDY3vGb1eNq",
        "colab_type": "text"
      },
      "cell_type": "markdown",
      "source": [
        "Let us start with the first option, which is basically having the embeddings learned by the neural network before the dense layers. \n",
        "\n",
        "First, we set our embeddings to have a size of 50, which means that each word will be represented by a vector of 50 values. We will run our network on 10 epochs, which means that each review will be passed to the model 10 times during the training phase. We set the batch size to be 128, which means the parameters will be updated for batches of 128 reviews at a time in each epoch."
      ]
    },
    {
      "metadata": {
        "id": "2E3fuXdkfcNw",
        "colab_type": "code",
        "outputId": "92b8fca6-3fa4-4139-cfed-0a331a0601fd",
        "colab": {
          "base_uri": "https://localhost:8080/",
          "height": 34
        }
      },
      "cell_type": "code",
      "source": [
        "64*50"
      ],
      "execution_count": 7,
      "outputs": [
        {
          "output_type": "execute_result",
          "data": {
            "text/plain": [
              "3200"
            ]
          },
          "metadata": {
            "tags": []
          },
          "execution_count": 7
        }
      ]
    },
    {
      "metadata": {
        "id": "PCsBhlzO12rV",
        "colab_type": "code",
        "colab": {}
      },
      "cell_type": "code",
      "source": [
        "embedding_size = 50\n",
        "epochs = 10\n",
        "batch_size = 128"
      ],
      "execution_count": 0,
      "outputs": []
    },
    {
      "metadata": {
        "id": "Wvc1hxMs2eqq",
        "colab_type": "text"
      },
      "cell_type": "markdown",
      "source": [
        "Let us go through the model below step by step. \n",
        "\n",
        "- First, we define the Embedding layer. It has to learn $50 \\times 3000 = 150000 $ parameters, because each word gets represented by a vector of 50 elements. After a review passes through this layer, it is a matrix of size (500,50) because it concatenates the embeddings of each word of the review (we set the length of each review to be 500 words when we padded the reviews!)\n",
        "- We then compute the average of this matrix on each of the 50 embedding dimensions. This step aims to reduce the dimensionality of our reviews by aggregating information. In the deep learning jargon, this is called \"Pooling\". At this stage, the review is now summarized in a vector of 50 values.\n",
        "- These values are connected to 64 hidden nodes with linear transformations on each edge of this dense graph ($y = w.x+b$). As a result, there are $64 \\times 50 = 3200$ weights to learn and 64 biases. Hence, there are 3264 parameters to be trained at this stage\n",
        "- Each of the 64 nodes get applied a non-linear function, relu\n",
        "- We then randomly discard 50% of these nodes, which is called \"Dropout\". Dropout is a highly efficient step to avoid overfitting.\n",
        "- Finally, we connect our remaining nodes to the output node, with the same linear transformations as before. So this time, there will be $1\\times64 + 1 = 65$ parameters to train.\n",
        "- Finally, our output gets tranformed to a probability value thanks to the sigmoid function. This probability will represent the probability of being a positive value (the probability of being a negative review will simply be 1 - that)"
      ]
    },
    {
      "metadata": {
        "id": "9PkYK30oonKL",
        "colab_type": "code",
        "outputId": "52944e11-8529-4d40-b418-3afaa41b5960",
        "colab": {
          "base_uri": "https://localhost:8080/",
          "height": 428
        }
      },
      "cell_type": "code",
      "source": [
        "model_base = Sequential()\n",
        "model_base.add(Embedding(vocab_size, embedding_size, input_shape=(max_len,)))\n",
        "model_base.add(GlobalAveragePooling1D())\n",
        "model_base.add(Dense(64, activation='relu'))\n",
        "model_base.add(Dropout(rate = 0.5))\n",
        "model_base.add(Dense(1, activation='sigmoid'))\n",
        "model_base.compile('adam', 'binary_crossentropy', metrics=['accuracy'])\n",
        "model_base.summary()"
      ],
      "execution_count": 9,
      "outputs": [
        {
          "output_type": "stream",
          "text": [
            "WARNING:tensorflow:From /usr/local/lib/python3.6/dist-packages/tensorflow/python/framework/op_def_library.py:263: colocate_with (from tensorflow.python.framework.ops) is deprecated and will be removed in a future version.\n",
            "Instructions for updating:\n",
            "Colocations handled automatically by placer.\n",
            "WARNING:tensorflow:From /usr/local/lib/python3.6/dist-packages/keras/backend/tensorflow_backend.py:3445: calling dropout (from tensorflow.python.ops.nn_ops) with keep_prob is deprecated and will be removed in a future version.\n",
            "Instructions for updating:\n",
            "Please use `rate` instead of `keep_prob`. Rate should be set to `rate = 1 - keep_prob`.\n",
            "_________________________________________________________________\n",
            "Layer (type)                 Output Shape              Param #   \n",
            "=================================================================\n",
            "embedding_1 (Embedding)      (None, 500, 50)           150000    \n",
            "_________________________________________________________________\n",
            "global_average_pooling1d_1 ( (None, 50)                0         \n",
            "_________________________________________________________________\n",
            "dense_1 (Dense)              (None, 64)                3264      \n",
            "_________________________________________________________________\n",
            "dropout_1 (Dropout)          (None, 64)                0         \n",
            "_________________________________________________________________\n",
            "dense_2 (Dense)              (None, 1)                 65        \n",
            "=================================================================\n",
            "Total params: 153,329\n",
            "Trainable params: 153,329\n",
            "Non-trainable params: 0\n",
            "_________________________________________________________________\n"
          ],
          "name": "stdout"
        }
      ]
    },
    {
      "metadata": {
        "id": "wVKOjEy25N5H",
        "colab_type": "text"
      },
      "cell_type": "markdown",
      "source": [
        "This sums up to 153,329 parameters to train. As you can see, the majority of them come from the embedding step... Let us see how this model performs now!"
      ]
    },
    {
      "metadata": {
        "id": "PCiA-U0aot7h",
        "colab_type": "code",
        "outputId": "a42ec25b-4610-41d2-e7f2-1d6c584e874b",
        "colab": {
          "base_uri": "https://localhost:8080/",
          "height": 445
        }
      },
      "cell_type": "code",
      "source": [
        "history = model_base.fit(train_data_padded, train_labels, epochs=epochs, batch_size = batch_size, validation_split = 0.25)"
      ],
      "execution_count": 10,
      "outputs": [
        {
          "output_type": "stream",
          "text": [
            "WARNING:tensorflow:From /usr/local/lib/python3.6/dist-packages/tensorflow/python/ops/math_ops.py:3066: to_int32 (from tensorflow.python.ops.math_ops) is deprecated and will be removed in a future version.\n",
            "Instructions for updating:\n",
            "Use tf.cast instead.\n",
            "Train on 18750 samples, validate on 6250 samples\n",
            "Epoch 1/10\n",
            "18750/18750 [==============================] - 4s 213us/step - loss: 0.6791 - acc: 0.5996 - val_loss: 0.6292 - val_acc: 0.7475\n",
            "Epoch 2/10\n",
            "18750/18750 [==============================] - 1s 70us/step - loss: 0.5124 - acc: 0.7928 - val_loss: 0.3978 - val_acc: 0.8584\n",
            "Epoch 3/10\n",
            "18750/18750 [==============================] - 1s 70us/step - loss: 0.3519 - acc: 0.8644 - val_loss: 0.3286 - val_acc: 0.8718\n",
            "Epoch 4/10\n",
            "18750/18750 [==============================] - 1s 70us/step - loss: 0.3024 - acc: 0.8817 - val_loss: 0.3079 - val_acc: 0.8776\n",
            "Epoch 5/10\n",
            "18750/18750 [==============================] - 1s 68us/step - loss: 0.2744 - acc: 0.8942 - val_loss: 0.3000 - val_acc: 0.8798\n",
            "Epoch 6/10\n",
            "18750/18750 [==============================] - 1s 69us/step - loss: 0.2543 - acc: 0.9010 - val_loss: 0.2937 - val_acc: 0.8821\n",
            "Epoch 7/10\n",
            "18750/18750 [==============================] - 1s 69us/step - loss: 0.2413 - acc: 0.9084 - val_loss: 0.3017 - val_acc: 0.8741\n",
            "Epoch 8/10\n",
            "18750/18750 [==============================] - 1s 69us/step - loss: 0.2314 - acc: 0.9118 - val_loss: 0.2940 - val_acc: 0.8816\n",
            "Epoch 9/10\n",
            "18750/18750 [==============================] - 1s 70us/step - loss: 0.2225 - acc: 0.9169 - val_loss: 0.2946 - val_acc: 0.8834\n",
            "Epoch 10/10\n",
            "18750/18750 [==============================] - 1s 69us/step - loss: 0.2167 - acc: 0.9190 - val_loss: 0.2927 - val_acc: 0.8827\n"
          ],
          "name": "stdout"
        }
      ]
    },
    {
      "metadata": {
        "id": "Z4A9dsxFovWO",
        "colab_type": "code",
        "outputId": "12ad2946-9fe2-44a5-d717-3a8a856f6419",
        "colab": {
          "base_uri": "https://localhost:8080/",
          "height": 379
        }
      },
      "cell_type": "code",
      "source": [
        "df = pd.DataFrame(history.history)\n",
        "df[['acc', 'val_acc']].plot()\n",
        "plt.ylabel(\"accuracy\")\n",
        "ax = plt.twinx()\n",
        "df[['loss', 'val_loss']].plot(linestyle='--', ax=ax)\n",
        "ax.legend(loc = 1)\n",
        "plt.ylabel(\"loss\")\n",
        "plt.title(\"Accuracy and loss on the training and validation set\")"
      ],
      "execution_count": 11,
      "outputs": [
        {
          "output_type": "execute_result",
          "data": {
            "text/plain": [
              "Text(0.5, 1.0, 'Accuracy and loss on the training and validation set')"
            ]
          },
          "metadata": {
            "tags": []
          },
          "execution_count": 11
        },
        {
          "output_type": "display_data",
          "data": {
            "image/png": "[encoded data removed]",
            "text/plain": [
              "<Figure size 576x396 with 2 Axes>"
            ]
          },
          "metadata": {
            "tags": []
          }
        }
      ]
    },
    {
      "metadata": {
        "id": "yOvVsBTA5Yd8",
        "colab_type": "text"
      },
      "cell_type": "markdown",
      "source": [
        "We achieve around 88% accuracy on the validation score with this method. Neat isn't it? We already outperformed the linear model from the previous step a bit!"
      ]
    },
    {
      "metadata": {
        "id": "WwdLkfIf5hok",
        "colab_type": "text"
      },
      "cell_type": "markdown",
      "source": [
        "### Using pre-trained Embeddings"
      ]
    },
    {
      "metadata": {
        "id": "KWUWW_1C5lOd",
        "colab_type": "text"
      },
      "cell_type": "markdown",
      "source": [
        "As stated above, another option is to use embeddings that would be computed before feeding the reviews to our neural network. A popular option is to use the GloVe embeddings (<a href = \"https://nlp.stanford.edu/projects/glove/\">Global Vector for Word Representation</a>), which have been trained on Wikipedia articles (among others). \n",
        "\n",
        "It's quite easy to do, especially thanks to the gensim library that also allows to do a lot of cool stuff as we'll see below."
      ]
    },
    {
      "metadata": {
        "id": "4Mj4sMO1VmTb",
        "colab_type": "code",
        "outputId": "fc0bcc6f-ca0c-4939-b574-50ed30851b18",
        "colab": {
          "base_uri": "https://localhost:8080/",
          "height": 34
        }
      },
      "cell_type": "code",
      "source": [
        "word_vectors = api.load(\"glove-wiki-gigaword-50\") "
      ],
      "execution_count": 12,
      "outputs": [
        {
          "output_type": "stream",
          "text": [
            "[==================================================] 100.0% 66.0/66.0MB downloaded\n"
          ],
          "name": "stdout"
        }
      ]
    },
    {
      "metadata": {
        "id": "_VeC7S2m9Jyy",
        "colab_type": "text"
      },
      "cell_type": "markdown",
      "source": [
        "Let us digress here for a second and have a look at all the fancy things one can do with gensim. For instance, you can check what words are most similar in the way they are used. This works by simply computing the cosine between each embedding and keeping the maximum value. You can see this as a dot product that evaluates how similar two vectors are.."
      ]
    },
    {
      "metadata": {
        "id": "uWy1zk8oWhJt",
        "colab_type": "code",
        "outputId": "241b9da6-5f62-46eb-f126-6fbd896a5399",
        "colab": {
          "base_uri": "https://localhost:8080/",
          "height": 156
        }
      },
      "cell_type": "code",
      "source": [
        "word_vectors.most_similar(\"movie\", topn = 5)"
      ],
      "execution_count": 13,
      "outputs": [
        {
          "output_type": "stream",
          "text": [
            "/usr/local/lib/python3.6/dist-packages/gensim/matutils.py:737: FutureWarning: Conversion of the second argument of issubdtype from `int` to `np.signedinteger` is deprecated. In future, it will be treated as `np.int64 == np.dtype(int).type`.\n",
            "  if np.issubdtype(vec.dtype, np.int):\n"
          ],
          "name": "stderr"
        },
        {
          "output_type": "execute_result",
          "data": {
            "text/plain": [
              "[('movies', 0.9322481155395508),\n",
              " ('film', 0.9310100078582764),\n",
              " ('films', 0.8937394022941589),\n",
              " ('comedy', 0.8902586102485657),\n",
              " ('hollywood', 0.8718215823173523)]"
            ]
          },
          "metadata": {
            "tags": []
          },
          "execution_count": 13
        }
      ]
    },
    {
      "metadata": {
        "id": "t019E6nK-sFe",
        "colab_type": "text"
      },
      "cell_type": "markdown",
      "source": [
        "For instance, the word closest to \"movie\" is \"movies\" (the numeric value is the cosine score), followed by \"film\" and \"films\". This highlights the power of embeddings. Compare this to the Bag of Words methodology we saw previously, where \"film\" and \"movie\" would be treated as two different words. Here, given that their embeddings are similar, they will be treated in a similar way too. This makes a lot of sense!\n",
        "\n",
        "Some more playing around with gensim. For instance, suppose I write the following review: \"I loved this movie because it has great actors and a great castle\" because I did a typo and wrote castle instead of cast (or say my automatic correcter did that...). Can embeddings help us to see there is something wrong?"
      ]
    },
    {
      "metadata": {
        "id": "-53L9maN_lvQ",
        "colab_type": "code",
        "outputId": "6ce2f9f9-72b0-4d8d-e9a8-9dcbbeaf85da",
        "colab": {
          "base_uri": "https://localhost:8080/",
          "height": 88
        }
      },
      "cell_type": "code",
      "source": [
        "word_vectors.doesnt_match(\"i loved this movie because it has great actors and a great castle\".split())"
      ],
      "execution_count": 14,
      "outputs": [
        {
          "output_type": "stream",
          "text": [
            "/usr/local/lib/python3.6/dist-packages/gensim/matutils.py:737: FutureWarning: Conversion of the second argument of issubdtype from `int` to `np.signedinteger` is deprecated. In future, it will be treated as `np.int64 == np.dtype(int).type`.\n",
            "  if np.issubdtype(vec.dtype, np.int):\n"
          ],
          "name": "stderr"
        },
        {
          "output_type": "execute_result",
          "data": {
            "text/plain": [
              "'castle'"
            ]
          },
          "metadata": {
            "tags": []
          },
          "execution_count": 14
        }
      ]
    },
    {
      "metadata": {
        "id": "Pn0t6zGGAxVr",
        "colab_type": "text"
      },
      "cell_type": "markdown",
      "source": [
        "Yes it can! It correctly identified \"castle\" as being the outlier here. How did it do that? Simply by computing the average embedding of my review and by identifying that \"castle\" had the smallest cosine score (smallest similiarity) with this average. Nice!\n",
        "\n",
        "Going a little further, there is another gensim feature that people love to play with... it's the famous \"what word c is to word d what word a is to word b\" question! For instance, Moscow is to Russia what Paris is to France. Let us try this out with the following example: suppose we are interested to know what the equivalent of man-actor relationship is for a woman..."
      ]
    },
    {
      "metadata": {
        "id": "-_oy2HwlJz57",
        "colab_type": "code",
        "outputId": "ac291340-3861-4956-b58e-20a565ae9532",
        "colab": {
          "base_uri": "https://localhost:8080/",
          "height": 34
        }
      },
      "cell_type": "code",
      "source": [
        "word_vectors.most_similar_cosmul(positive = ['actor','woman'], negative=['man'], topn = 1)"
      ],
      "execution_count": 15,
      "outputs": [
        {
          "output_type": "execute_result",
          "data": {
            "text/plain": [
              "[('actress', 1.00295889377594)]"
            ]
          },
          "metadata": {
            "tags": []
          },
          "execution_count": 15
        }
      ]
    },
    {
      "metadata": {
        "id": "7oA8rontKoMu",
        "colab_type": "text"
      },
      "cell_type": "markdown",
      "source": [
        "Not too surprizingly, it is... \"actress\"! All it does backstage is translating the operation actor - man + woman in terms of embeddings, and then search for the closest word with the cosine score. Fancy!\n",
        "\n",
        "Hopefully, this has demonstrated that embeddings open the door to semantics in Natural Language Processing. On another note, this raises questions like \"can semantics be captured by vectors?\" or \"is language a vector space?\", which are fascinating questions if you want to think about it."
      ]
    },
    {
      "metadata": {
        "id": "0hnJ9oaLNJ0a",
        "colab_type": "text"
      },
      "cell_type": "markdown",
      "source": [
        "But enough of playing with these embeddings. Let us see if they are actually useful for our model. \n",
        "\n",
        "First, we need to build the embedding matrix with all the GloVe embeddings. The size of the matrix is (500,50) as before."
      ]
    },
    {
      "metadata": {
        "id": "N1iyT71gMURF",
        "colab_type": "code",
        "colab": {}
      },
      "cell_type": "code",
      "source": [
        "embedding_matrix = np.zeros((vocab_size, embedding_size))\n",
        "for word, i in word_to_index.items():\n",
        "    if word in word_vectors.vocab and i < vocab_size:\n",
        "        embedding_matrix[i] = word_vectors[word]"
      ],
      "execution_count": 0,
      "outputs": []
    },
    {
      "metadata": {
        "id": "eG7sASi4PZWf",
        "colab_type": "text"
      },
      "cell_type": "markdown",
      "source": [
        "We only need to change the first line of code in the model we introduced previously by specifying the weights in our Embedding layer and then by specifying that these weights are not trainable."
      ]
    },
    {
      "metadata": {
        "id": "wFcEKE4BPGRX",
        "colab_type": "code",
        "outputId": "adc21a1d-b868-4145-bd29-824119d34eaa",
        "colab": {
          "base_uri": "https://localhost:8080/",
          "height": 306
        }
      },
      "cell_type": "code",
      "source": [
        "model_with_embeddings = Sequential()\n",
        "model_with_embeddings.add(Embedding(vocab_size, embedding_size, weights=[embedding_matrix], trainable = False, input_shape=(max_len,)))\n",
        "model_with_embeddings.add(GlobalAveragePooling1D())\n",
        "model_with_embeddings.add(Dense(64, activation='relu'))\n",
        "model_with_embeddings.add(Dropout(rate = 0.5))\n",
        "model_with_embeddings.add(Dense(1, activation='sigmoid'))\n",
        "model_with_embeddings.compile('adam', 'binary_crossentropy', metrics=['accuracy'])\n",
        "model_with_embeddings.summary()"
      ],
      "execution_count": 17,
      "outputs": [
        {
          "output_type": "stream",
          "text": [
            "_________________________________________________________________\n",
            "Layer (type)                 Output Shape              Param #   \n",
            "=================================================================\n",
            "embedding_2 (Embedding)      (None, 500, 50)           150000    \n",
            "_________________________________________________________________\n",
            "global_average_pooling1d_2 ( (None, 50)                0         \n",
            "_________________________________________________________________\n",
            "dense_3 (Dense)              (None, 64)                3264      \n",
            "_________________________________________________________________\n",
            "dropout_2 (Dropout)          (None, 64)                0         \n",
            "_________________________________________________________________\n",
            "dense_4 (Dense)              (None, 1)                 65        \n",
            "=================================================================\n",
            "Total params: 153,329\n",
            "Trainable params: 3,329\n",
            "Non-trainable params: 150,000\n",
            "_________________________________________________________________\n"
          ],
          "name": "stdout"
        }
      ]
    },
    {
      "metadata": {
        "id": "UJJ9P9n8PuKk",
        "colab_type": "text"
      },
      "cell_type": "markdown",
      "source": [
        "As you can see in this summary, we still have 153,329 parameters as before. Only, this time, the 150,000 embedding parameters are \"not trainable\", meaning they will not be changed during the training phase. As a result, we are left with only 3,329 parameters to train."
      ]
    },
    {
      "metadata": {
        "id": "qk34a7ztQEdr",
        "colab_type": "code",
        "outputId": "954f274b-b663-4f1d-af01-53058c4ee98b",
        "colab": {
          "base_uri": "https://localhost:8080/",
          "height": 374
        }
      },
      "cell_type": "code",
      "source": [
        "history = model_with_embeddings.fit(train_data_padded, train_labels, epochs=epochs, batch_size = 128, validation_split = 0.25)"
      ],
      "execution_count": 18,
      "outputs": [
        {
          "output_type": "stream",
          "text": [
            "Train on 18750 samples, validate on 6250 samples\n",
            "Epoch 1/10\n",
            "18750/18750 [==============================] - 1s 57us/step - loss: 0.6835 - acc: 0.5665 - val_loss: 0.6654 - val_acc: 0.6448\n",
            "Epoch 2/10\n",
            "18750/18750 [==============================] - 1s 41us/step - loss: 0.6588 - acc: 0.6301 - val_loss: 0.6391 - val_acc: 0.6710\n",
            "Epoch 3/10\n",
            "18750/18750 [==============================] - 1s 41us/step - loss: 0.6377 - acc: 0.6595 - val_loss: 0.6167 - val_acc: 0.6898\n",
            "Epoch 4/10\n",
            "18750/18750 [==============================] - 1s 41us/step - loss: 0.6190 - acc: 0.6786 - val_loss: 0.5996 - val_acc: 0.7013\n",
            "Epoch 5/10\n",
            "18750/18750 [==============================] - 1s 41us/step - loss: 0.6027 - acc: 0.6951 - val_loss: 0.5835 - val_acc: 0.7168\n",
            "Epoch 6/10\n",
            "18750/18750 [==============================] - 1s 41us/step - loss: 0.5891 - acc: 0.7047 - val_loss: 0.5714 - val_acc: 0.7266\n",
            "Epoch 7/10\n",
            "18750/18750 [==============================] - 1s 41us/step - loss: 0.5773 - acc: 0.7143 - val_loss: 0.5618 - val_acc: 0.7352\n",
            "Epoch 8/10\n",
            "18750/18750 [==============================] - 1s 41us/step - loss: 0.5673 - acc: 0.7220 - val_loss: 0.5552 - val_acc: 0.7350\n",
            "Epoch 9/10\n",
            "18750/18750 [==============================] - 1s 41us/step - loss: 0.5607 - acc: 0.7270 - val_loss: 0.5465 - val_acc: 0.7373\n",
            "Epoch 10/10\n",
            "18750/18750 [==============================] - 1s 41us/step - loss: 0.5541 - acc: 0.7293 - val_loss: 0.5455 - val_acc: 0.7376\n"
          ],
          "name": "stdout"
        }
      ]
    },
    {
      "metadata": {
        "id": "HsZhq2hojbmI",
        "colab_type": "text"
      },
      "cell_type": "markdown",
      "source": [
        "How disappointing! Yes, it does speed up the learning process a little bit, but using these pre-trained embeddings considerably lowers our accuracy. Why is that, although we had seen that these embeddings are able to capture movie semantics quite well while we played around with gensim features?\n",
        "\n",
        "There might be several reasons to that, but an obvious one is that these embeddings were not computed for our classification problem specifically. They aim to be general word representations and hence might be too general here. Also, the corpus used for the training of the GloVe embeddings might not be that well suited for our task. Wikipedia articles, for instance, do not convey much sentiment or opinion. Hence, these embeddings might be less suited to run sentiment analysis.\n",
        "\n",
        "On the other hand, the embeddings we computed from scratch were designed so that the loss of our classifier would be minimized. They indeed enable us to achieve best performance and thus we should be considering this option."
      ]
    },
    {
      "metadata": {
        "id": "9QbTTojmrhbp",
        "colab_type": "text"
      },
      "cell_type": "markdown",
      "source": [
        "## 4. Classification with Convolutional Neural Networks"
      ]
    },
    {
      "metadata": {
        "id": "aY3YpilvruLV",
        "colab_type": "text"
      },
      "cell_type": "markdown",
      "source": [
        "In the model we built above, we used a Global Average Pooling layer right after the Embedding layer. This means we averaged all 500 embeddings of the reviews along each of the 50 embedding dimensions. This is a necessary step because else we would have to connect these $50 \\times 500 = 25,000$ values to the hidden layer, which would result in an explosion of the number of weights to learn and to overfitting. By averaging along each of the dimensions, we aggregate the information into only 50 values, which is much more reasonable.\n",
        "\n",
        "However, this is something that can raise concern. For instance, many reviews have less than 500 words and contain many padding embeddings. By computing the average like we did before, we allow these padding embeddings to significantly impact our the model prediction, which should not be the case. Another concern is that we still do not take advantage of words associations like negations. In a review such as \"I did not like it\", the embeddings of each of these 5 words will be averaged and then passed through the hidden layers, but at no point will the \"not\" + \"like\" combination be explicitely evaluated.\n",
        "\n",
        "These problems can be compared to Computer Vision problems. Knowing that there are yellow pixels on the top right corner and blue pixels on the bottom left corner does not help much to analyze the content of the image. One needs to analyze how these pixels are located relatively to each other to gain knowledge from the image. This analogy naturally lead us to consider Convolutional Neural Networks."
      ]
    },
    {
      "metadata": {
        "id": "O8X6_XrlLufy",
        "colab_type": "text"
      },
      "cell_type": "markdown",
      "source": [
        "Essentially, the Convolutional Neural Network will have the same architecture than the previous models with an Embedding layer at the begginning and Hidden Layers at the end. What changes is the addition of the Convolution filtering inbetween, as you can tell from the model summary below. What is it all about? \n"
      ]
    },
    {
      "metadata": {
        "id": "AdAqU8GeD0sb",
        "colab_type": "code",
        "outputId": "dc4f1071-09e6-460c-bb64-429c5ee4cd36",
        "colab": {
          "base_uri": "https://localhost:8080/",
          "height": 663
        }
      },
      "cell_type": "code",
      "source": [
        "model = Sequential()\n",
        "model.add(Embedding(vocab_size, embedding_size, input_shape=(max_len,)))\n",
        "model.add(Conv1D(filters = 256, kernel_size = 5, activation='relu'))\n",
        "model.add(MaxPooling1D(3))\n",
        "model.add(Dropout(rate = 0.5))\n",
        "model.add(Conv1D(filters = 256, kernel_size = 5, activation='relu'))\n",
        "model.add(MaxPooling1D(3))\n",
        "model.add(Flatten())\n",
        "model.add(Dropout(rate = 0.5))\n",
        "model.add(Dense(64, activation = 'relu'))\n",
        "model.add(Dense(1, activation='sigmoid'))\n",
        "model.compile(optimizer='adam', loss='binary_crossentropy', metrics=['acc'])\n",
        "model.summary()\n",
        "history = model.fit(train_data_padded, train_labels, epochs=5, batch_size = batch_size, validation_split=0.25)"
      ],
      "execution_count": 22,
      "outputs": [
        {
          "output_type": "stream",
          "text": [
            "_________________________________________________________________\n",
            "Layer (type)                 Output Shape              Param #   \n",
            "=================================================================\n",
            "embedding_6 (Embedding)      (None, 500, 50)           150000    \n",
            "_________________________________________________________________\n",
            "conv1d_7 (Conv1D)            (None, 496, 256)          64256     \n",
            "_________________________________________________________________\n",
            "max_pooling1d_7 (MaxPooling1 (None, 165, 256)          0         \n",
            "_________________________________________________________________\n",
            "dropout_9 (Dropout)          (None, 165, 256)          0         \n",
            "_________________________________________________________________\n",
            "conv1d_8 (Conv1D)            (None, 161, 256)          327936    \n",
            "_________________________________________________________________\n",
            "max_pooling1d_8 (MaxPooling1 (None, 53, 256)           0         \n",
            "_________________________________________________________________\n",
            "flatten_4 (Flatten)          (None, 13568)             0         \n",
            "_________________________________________________________________\n",
            "dropout_10 (Dropout)         (None, 13568)             0         \n",
            "_________________________________________________________________\n",
            "dense_11 (Dense)             (None, 64)                868416    \n",
            "_________________________________________________________________\n",
            "dense_12 (Dense)             (None, 1)                 65        \n",
            "=================================================================\n",
            "Total params: 1,410,673\n",
            "Trainable params: 1,410,673\n",
            "Non-trainable params: 0\n",
            "_________________________________________________________________\n",
            "Train on 18750 samples, validate on 6250 samples\n",
            "Epoch 1/5\n",
            "18750/18750 [==============================] - 11s 568us/step - loss: 0.5985 - acc: 0.6226 - val_loss: 0.3443 - val_acc: 0.8544\n",
            "Epoch 2/5\n",
            "18750/18750 [==============================] - 9s 506us/step - loss: 0.2929 - acc: 0.8816 - val_loss: 0.2867 - val_acc: 0.8789\n",
            "Epoch 3/5\n",
            "18750/18750 [==============================] - 9s 503us/step - loss: 0.2238 - acc: 0.9121 - val_loss: 0.2691 - val_acc: 0.8926\n",
            "Epoch 4/5\n",
            "18750/18750 [==============================] - 9s 502us/step - loss: 0.1855 - acc: 0.9300 - val_loss: 0.3003 - val_acc: 0.8814\n",
            "Epoch 5/5\n",
            "18750/18750 [==============================] - 9s 504us/step - loss: 0.1599 - acc: 0.9383 - val_loss: 0.3068 - val_acc: 0.8882\n"
          ],
          "name": "stdout"
        }
      ]
    },
    {
      "metadata": {
        "id": "Kxmdm_0X1DpC",
        "colab_type": "code",
        "outputId": "36e408b2-a94f-47fb-d57e-88a658a2e986",
        "colab": {
          "base_uri": "https://localhost:8080/",
          "height": 379
        }
      },
      "cell_type": "code",
      "source": [
        "df = pd.DataFrame(history.history)\n",
        "df[['acc', 'val_acc']].plot()\n",
        "plt.ylabel(\"accuracy\")\n",
        "ax = plt.twinx()\n",
        "df[['loss', 'val_loss']].plot(linestyle='--', ax=ax)\n",
        "ax.legend(loc = 1)\n",
        "plt.ylabel(\"loss\")\n",
        "plt.title(\"Accuracy and loss on the training and validation set\")"
      ],
      "execution_count": 0,
      "outputs": [
        {
          "output_type": "execute_result",
          "data": {
            "text/plain": [
              "Text(0.5, 1.0, 'Accuracy and loss on the training and validation set')"
            ]
          },
          "metadata": {
            "tags": []
          },
          "execution_count": 14
        },
        {
          "output_type": "display_data",
          "data": {
            "image/png": "[encoded data removed]",
            "text/plain": [
              "<Figure size 576x396 with 2 Axes>"
            ]
          },
          "metadata": {
            "tags": []
          }
        }
      ]
    },
    {
      "metadata": {
        "id": "0oEIxNP5mBsv",
        "colab_type": "code",
        "colab": {}
      },
      "cell_type": "code",
      "source": [
        ""
      ],
      "execution_count": 0,
      "outputs": []
    }
  ]
}