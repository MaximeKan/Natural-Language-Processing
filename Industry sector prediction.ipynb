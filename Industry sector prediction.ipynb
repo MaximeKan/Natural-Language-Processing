{
 "cells": [
  {
   "cell_type": "markdown",
   "metadata": {},
   "source": [
    "# Industry sector prediction - A basic NLP example"
   ]
  },
  {
   "cell_type": "markdown",
   "metadata": {},
   "source": [
    "Goal : Given the official name of a company, predict the sector of the company\n",
    "\n",
    "This is a multiclass classification, that is based on a very short amount of text for each company"
   ]
  },
  {
   "cell_type": "code",
   "execution_count": 129,
   "metadata": {
    "collapsed": true
   },
   "outputs": [],
   "source": [
    "import pandas as pd\n",
    "import numpy as np\n",
    "import random"
   ]
  },
  {
   "cell_type": "code",
   "execution_count": 130,
   "metadata": {
    "collapsed": true
   },
   "outputs": [],
   "source": [
    "from nltk.corpus import stopwords\n",
    "import nltk\n",
    "import re"
   ]
  },
  {
   "cell_type": "markdown",
   "metadata": {},
   "source": [
    "## Imbalance issues - Resampling"
   ]
  },
  {
   "cell_type": "markdown",
   "metadata": {},
   "source": [
    "Each of the industry labels are very imbalanced, which will lead to imbalance prediction accuracies. We choose to deal with this issue by resampling so that each label gets represented 100 times"
   ]
  },
  {
   "cell_type": "code",
   "execution_count": 131,
   "metadata": {
    "collapsed": true
   },
   "outputs": [],
   "source": [
    "df = pd.read_csv(\"private us companies.csv\")"
   ]
  },
  {
   "cell_type": "code",
   "execution_count": 132,
   "metadata": {
    "collapsed": true
   },
   "outputs": [],
   "source": [
    "df = df[[\"Company\",\"Industry\"]]"
   ]
  },
  {
   "cell_type": "code",
   "execution_count": 133,
   "metadata": {
    "scrolled": true
   },
   "outputs": [
    {
     "data": {
      "text/html": [
       "<div>\n",
       "<style>\n",
       "    .dataframe thead tr:only-child th {\n",
       "        text-align: right;\n",
       "    }\n",
       "\n",
       "    .dataframe thead th {\n",
       "        text-align: left;\n",
       "    }\n",
       "\n",
       "    .dataframe tbody tr th {\n",
       "        vertical-align: top;\n",
       "    }\n",
       "</style>\n",
       "<table border=\"1\" class=\"dataframe\">\n",
       "  <thead>\n",
       "    <tr style=\"text-align: right;\">\n",
       "      <th></th>\n",
       "      <th>Company</th>\n",
       "      <th>Industry</th>\n",
       "    </tr>\n",
       "  </thead>\n",
       "  <tbody>\n",
       "    <tr>\n",
       "      <th>0</th>\n",
       "      <td>A - E Employees Credit Union</td>\n",
       "      <td>Diversified Financial Services</td>\n",
       "    </tr>\n",
       "    <tr>\n",
       "      <th>1</th>\n",
       "      <td>A &amp; A Contract Services, Inc.</td>\n",
       "      <td>Professional Services</td>\n",
       "    </tr>\n",
       "    <tr>\n",
       "      <th>2</th>\n",
       "      <td>A &amp; A Express, Inc.</td>\n",
       "      <td>Road and Rail</td>\n",
       "    </tr>\n",
       "    <tr>\n",
       "      <th>3</th>\n",
       "      <td>A &amp; A Fertilizer, Ltd.</td>\n",
       "      <td>Chemicals</td>\n",
       "    </tr>\n",
       "    <tr>\n",
       "      <th>4</th>\n",
       "      <td>A &amp; A Food Service. Inc.</td>\n",
       "      <td>Distributors</td>\n",
       "    </tr>\n",
       "  </tbody>\n",
       "</table>\n",
       "</div>"
      ],
      "text/plain": [
       "                         Company                        Industry\n",
       "0   A - E Employees Credit Union  Diversified Financial Services\n",
       "1  A & A Contract Services, Inc.           Professional Services\n",
       "2            A & A Express, Inc.                   Road and Rail\n",
       "3         A & A Fertilizer, Ltd.                       Chemicals\n",
       "4       A & A Food Service. Inc.                    Distributors"
      ]
     },
     "execution_count": 133,
     "metadata": {},
     "output_type": "execute_result"
    }
   ],
   "source": [
    "df.head()"
   ]
  },
  {
   "cell_type": "code",
   "execution_count": 134,
   "metadata": {
    "collapsed": true
   },
   "outputs": [],
   "source": [
    "count = df.groupby('Industry').count()\n",
    "under = count[count.Company>=100]\n",
    "over = count[count.Company< 100]\n",
    "\n",
    "under1 = df.loc[df.Industry.isin(under.index)]\n",
    "over1 = df.loc[df.Industry.isin(over.index)]"
   ]
  },
  {
   "cell_type": "code",
   "execution_count": null,
   "metadata": {
    "collapsed": true
   },
   "outputs": [],
   "source": []
  },
  {
   "cell_type": "code",
   "execution_count": 135,
   "metadata": {},
   "outputs": [
    {
     "data": {
      "text/plain": [
       "(86, 13)"
      ]
     },
     "execution_count": 135,
     "metadata": {},
     "output_type": "execute_result"
    }
   ],
   "source": [
    "len(under1.Industry.value_counts()),len(over1.Industry.value_counts())"
   ]
  },
  {
   "cell_type": "code",
   "execution_count": 136,
   "metadata": {
    "collapsed": true
   },
   "outputs": [],
   "source": [
    "under2 = under1.groupby('Industry', as_index=False).apply(lambda obj: obj.loc[np.random.choice(obj.index, 100, replace=False),:])"
   ]
  },
  {
   "cell_type": "code",
   "execution_count": 137,
   "metadata": {
    "collapsed": true
   },
   "outputs": [],
   "source": [
    "over2 = over1.groupby('Industry', as_index=False).apply(lambda obj: obj.loc[np.random.choice(obj.index, 100, replace=True),:])"
   ]
  },
  {
   "cell_type": "code",
   "execution_count": 138,
   "metadata": {
    "collapsed": true
   },
   "outputs": [],
   "source": [
    "df = pd.concat([under2,over2])"
   ]
  },
  {
   "cell_type": "markdown",
   "metadata": {},
   "source": [
    "## Text processing"
   ]
  },
  {
   "cell_type": "markdown",
   "metadata": {},
   "source": [
    "Company names require attentive preprocessing because there might be words that do not exist, special characters etc. The function below does this preprocessing, and is then applied to the whole text column. The most important preprocessing done here is the stemming, that allows us to extract the root of each word."
   ]
  },
  {
   "cell_type": "code",
   "execution_count": 139,
   "metadata": {
    "collapsed": true
   },
   "outputs": [],
   "source": [
    "def genCorpus(theText):\n",
    "    #set dictionaries\n",
    "    stopWords = set(stopwords.words('english'))\n",
    "    theStemmer = nltk.stem.porter.PorterStemmer() #Martin Porters celebrated stemming algorithm\n",
    "    \n",
    "    #pre-processing\n",
    "    theText = theText.split()\n",
    "    tokens = [token.lower() for token in theText] #ensure everything is lower case\n",
    "    tokens = [re.sub(r'[^a-zA-Z0-9]+', ' ',token) for token in tokens] #remove special characters but leave word in tact\n",
    "    tokens = [token for token in tokens if token.lower().isalpha()] #ensure everything is a letter\n",
    "    #tokens = [word for word in tokens if word not in stopWords] #rid of stop words\n",
    "    tokens = [theStemmer.stem(word) for word in tokens] #stem words uing porter stemming algorithm\n",
    "    tokens = \" \".join(tokens) #need to pass string seperated by spaces       \n",
    "\n",
    "    return tokens"
   ]
  },
  {
   "cell_type": "code",
   "execution_count": 140,
   "metadata": {
    "collapsed": true
   },
   "outputs": [],
   "source": [
    "df.Company = df.Company.apply(genCorpus)"
   ]
  },
  {
   "cell_type": "code",
   "execution_count": 141,
   "metadata": {},
   "outputs": [
    {
     "data": {
      "text/html": [
       "<div>\n",
       "<style>\n",
       "    .dataframe thead tr:only-child th {\n",
       "        text-align: right;\n",
       "    }\n",
       "\n",
       "    .dataframe thead th {\n",
       "        text-align: left;\n",
       "    }\n",
       "\n",
       "    .dataframe tbody tr th {\n",
       "        vertical-align: top;\n",
       "    }\n",
       "</style>\n",
       "<table border=\"1\" class=\"dataframe\">\n",
       "  <thead>\n",
       "    <tr style=\"text-align: right;\">\n",
       "      <th></th>\n",
       "      <th></th>\n",
       "      <th>Company</th>\n",
       "      <th>Industry</th>\n",
       "    </tr>\n",
       "  </thead>\n",
       "  <tbody>\n",
       "    <tr>\n",
       "      <th rowspan=\"10\" valign=\"top\">0</th>\n",
       "      <th>21184</th>\n",
       "      <td>arcadia aerospac llc</td>\n",
       "      <td>Aerospace and Defense</td>\n",
       "    </tr>\n",
       "    <tr>\n",
       "      <th>164026</th>\n",
       "      <td>lake region tubular</td>\n",
       "      <td>Aerospace and Defense</td>\n",
       "    </tr>\n",
       "    <tr>\n",
       "      <th>247256</th>\n",
       "      <td>rotorcraft leas</td>\n",
       "      <td>Aerospace and Defense</td>\n",
       "    </tr>\n",
       "    <tr>\n",
       "      <th>119663</th>\n",
       "      <td>global analyt inform technolog</td>\n",
       "      <td>Aerospace and Defense</td>\n",
       "    </tr>\n",
       "    <tr>\n",
       "      <th>254335</th>\n",
       "      <td>seakr incorpor</td>\n",
       "      <td>Aerospace and Defense</td>\n",
       "    </tr>\n",
       "    <tr>\n",
       "      <th>136611</th>\n",
       "      <td>honeycomb compani of</td>\n",
       "      <td>Aerospace and Defense</td>\n",
       "    </tr>\n",
       "    <tr>\n",
       "      <th>211155</th>\n",
       "      <td>ontic engin and</td>\n",
       "      <td>Aerospace and Defense</td>\n",
       "    </tr>\n",
       "    <tr>\n",
       "      <th>246314</th>\n",
       "      <td>roger helicopt</td>\n",
       "      <td>Aerospace and Defense</td>\n",
       "    </tr>\n",
       "    <tr>\n",
       "      <th>267095</th>\n",
       "      <td>spawar system center atlant</td>\n",
       "      <td>Aerospace and Defense</td>\n",
       "    </tr>\n",
       "    <tr>\n",
       "      <th>8918</th>\n",
       "      <td>aircraft dynam corpor</td>\n",
       "      <td>Aerospace and Defense</td>\n",
       "    </tr>\n",
       "  </tbody>\n",
       "</table>\n",
       "</div>"
      ],
      "text/plain": [
       "                                 Company               Industry\n",
       "0 21184             arcadia aerospac llc  Aerospace and Defense\n",
       "  164026             lake region tubular  Aerospace and Defense\n",
       "  247256                 rotorcraft leas  Aerospace and Defense\n",
       "  119663  global analyt inform technolog  Aerospace and Defense\n",
       "  254335                  seakr incorpor  Aerospace and Defense\n",
       "  136611            honeycomb compani of  Aerospace and Defense\n",
       "  211155                 ontic engin and  Aerospace and Defense\n",
       "  246314                  roger helicopt  Aerospace and Defense\n",
       "  267095     spawar system center atlant  Aerospace and Defense\n",
       "  8918             aircraft dynam corpor  Aerospace and Defense"
      ]
     },
     "execution_count": 141,
     "metadata": {},
     "output_type": "execute_result"
    }
   ],
   "source": [
    "df.head(10)"
   ]
  },
  {
   "cell_type": "code",
   "execution_count": 142,
   "metadata": {
    "collapsed": true
   },
   "outputs": [],
   "source": [
    "names = list(df.Company)"
   ]
  },
  {
   "cell_type": "markdown",
   "metadata": {},
   "source": [
    "## Vectorizing the names"
   ]
  },
  {
   "cell_type": "markdown",
   "metadata": {},
   "source": [
    "First we vectorize the bag of words and apply the tfidf methodology to it. Then, we reduce dimensionality with a PCA"
   ]
  },
  {
   "cell_type": "code",
   "execution_count": 143,
   "metadata": {
    "collapsed": true
   },
   "outputs": [],
   "source": [
    "from sklearn.feature_extraction.text import TfidfVectorizer\n",
    "from sklearn import decomposition\n",
    "from sklearn.ensemble import RandomForestClassifier\n",
    "from sklearn.metrics import f1_score"
   ]
  },
  {
   "cell_type": "code",
   "execution_count": null,
   "metadata": {
    "collapsed": true
   },
   "outputs": [],
   "source": []
  },
  {
   "cell_type": "code",
   "execution_count": 144,
   "metadata": {
    "collapsed": true
   },
   "outputs": [],
   "source": [
    "vectorizer = TfidfVectorizer(max_features=1000,ngram_range=(1,1))\n",
    "tdm = pd.DataFrame(vectorizer.fit_transform(names).toarray())\n",
    "tdm.columns = vectorizer.get_feature_names()"
   ]
  },
  {
   "cell_type": "code",
   "execution_count": 145,
   "metadata": {
    "collapsed": true
   },
   "outputs": [],
   "source": [
    "pca = decomposition.PCA(n_components=.95)\n",
    "pca.fit(tdm)\n",
    "reducedTDM = pd.DataFrame(pca.transform(tdm)) #reduced tdm distance matrix"
   ]
  },
  {
   "cell_type": "markdown",
   "metadata": {},
   "source": [
    "## Fitting a classifier"
   ]
  },
  {
   "cell_type": "markdown",
   "metadata": {},
   "source": [
    "With these features, we can then train a random forest classifier to predict the industry labels"
   ]
  },
  {
   "cell_type": "code",
   "execution_count": 146,
   "metadata": {
    "collapsed": true
   },
   "outputs": [],
   "source": [
    "model = RandomForestClassifier()"
   ]
  },
  {
   "cell_type": "code",
   "execution_count": 147,
   "metadata": {},
   "outputs": [
    {
     "data": {
      "text/plain": [
       "RandomForestClassifier(bootstrap=True, class_weight=None, criterion='gini',\n",
       "            max_depth=None, max_features='auto', max_leaf_nodes=None,\n",
       "            min_impurity_decrease=0.0, min_impurity_split=None,\n",
       "            min_samples_leaf=1, min_samples_split=2,\n",
       "            min_weight_fraction_leaf=0.0, n_estimators=10, n_jobs=1,\n",
       "            oob_score=False, random_state=None, verbose=0,\n",
       "            warm_start=False)"
      ]
     },
     "execution_count": 147,
     "metadata": {},
     "output_type": "execute_result"
    }
   ],
   "source": [
    "model.fit(reducedTDM,df.Industry)"
   ]
  },
  {
   "cell_type": "code",
   "execution_count": 148,
   "metadata": {
    "collapsed": true
   },
   "outputs": [],
   "source": [
    "y_pred = model.predict(reducedTDM)"
   ]
  },
  {
   "cell_type": "code",
   "execution_count": 149,
   "metadata": {},
   "outputs": [
    {
     "data": {
      "text/plain": [
       "0.60484897220237965"
      ]
     },
     "execution_count": 149,
     "metadata": {},
     "output_type": "execute_result"
    }
   ],
   "source": [
    "f1_score(df.Industry,y_pred, average='weighted')"
   ]
  },
  {
   "cell_type": "markdown",
   "metadata": {},
   "source": [
    "Our classification yields a f1 score of **0.60**, which is actually quite satisfactory given how little data we are using for the prediction"
   ]
  },
  {
   "cell_type": "code",
   "execution_count": 150,
   "metadata": {
    "collapsed": true
   },
   "outputs": [],
   "source": [
    "entry = 'General Electrics'"
   ]
  },
  {
   "cell_type": "code",
   "execution_count": 151,
   "metadata": {},
   "outputs": [
    {
     "data": {
      "text/plain": [
       "'Electric Utilities'"
      ]
     },
     "execution_count": 151,
     "metadata": {},
     "output_type": "execute_result"
    }
   ],
   "source": [
    "model.predict(pd.DataFrame(pca.transform(pd.DataFrame(vectorizer.transform([genCorpus(entry)]).toarray()))))[0]"
   ]
  },
  {
   "cell_type": "code",
   "execution_count": null,
   "metadata": {
    "collapsed": true
   },
   "outputs": [],
   "source": []
  }
 ],
 "metadata": {
  "kernelspec": {
   "display_name": "Python 2",
   "language": "python",
   "name": "python2"
  },
  "language_info": {
   "codemirror_mode": {
    "name": "ipython",
    "version": 2
   },
   "file_extension": ".py",
   "mimetype": "text/x-python",
   "name": "python",
   "nbconvert_exporter": "python",
   "pygments_lexer": "ipython2",
   "version": "2.7.14"
  }
 },
 "nbformat": 4,
 "nbformat_minor": 1
}
