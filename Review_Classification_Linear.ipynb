{
  "nbformat": 4,
  "nbformat_minor": 0,
  "metadata": {
    "colab": {
      "name": "Review_Classification.ipynb",
      "version": "0.3.2",
      "provenance": [],
      "collapsed_sections": []
    },
    "kernelspec": {
      "name": "python3",
      "display_name": "Python 3"
    },
    "accelerator": "GPU"
  },
  "cells": [
    {
      "metadata": {
        "id": "ZfhIH57ZfsVD",
        "colab_type": "text"
      },
      "cell_type": "markdown",
      "source": [
        "# IMDB movie reviews classification\n",
        "\n",
        "## A Machine Learning classic"
      ]
    },
    {
      "metadata": {
        "id": "HwElsOEgf-Z-",
        "colab_type": "text"
      },
      "cell_type": "markdown",
      "source": [
        "In this project, let us tackle a very well known ML problem: how to classifiy movie reviews from the IMDB platform. Out data set is composed of reviews that are labeled in a binary way, that is, whether the grade associated to the text by the reviewer is positive or negative. \n",
        "\n",
        "A lot of ressources can be found about this problem online, and we want to use this very classic ML problem to go through different Natural Language Processing methodologies to compare their performance, our results can then be compared to other benchmarks in the ML literature. \n",
        "\n",
        "In this post, we will only use a linear model - the Logistic Regression - to perform the classification task. In a later post, we will investigate what more powerful techniques such as Neural Networks can add to this problem."
      ]
    },
    {
      "metadata": {
        "id": "mZoEKIYRiefy",
        "colab_type": "text"
      },
      "cell_type": "markdown",
      "source": [
        "## 1. Load data"
      ]
    },
    {
      "metadata": {
        "id": "PMx7_cswiB10",
        "colab_type": "text"
      },
      "cell_type": "markdown",
      "source": [
        "As always, let us first state what packages we will be using. The data set comes from keras.datasets, making it easy to use. "
      ]
    },
    {
      "metadata": {
        "id": "KdjQzOtDa1VE",
        "colab_type": "code",
        "outputId": "d5cb896e-6ed0-437c-8434-f8fc9dee716e",
        "colab": {
          "base_uri": "https://localhost:8080/",
          "height": 68
        }
      },
      "cell_type": "code",
      "source": [
        "import numpy as np\n",
        "import matplotlib.pyplot as plt\n",
        "import pandas as pd\n",
        "import seaborn as sns\n",
        "import string\n",
        "\n",
        "from keras.datasets import imdb\n",
        "\n",
        "from sklearn.feature_extraction.text import TfidfVectorizer\n",
        "from sklearn.pipeline import make_pipeline\n",
        "from sklearn.linear_model import LogisticRegression\n",
        "from sklearn.model_selection import GridSearchCV, cross_validate\n",
        "from sklearn.metrics import accuracy_score\n",
        "\n",
        "import nltk\n",
        "nltk.download('stopwords')\n",
        "from nltk.corpus import stopwords\n",
        "from nltk.stem.snowball import SnowballStemmer"
      ],
      "execution_count": 1,
      "outputs": [
        {
          "output_type": "stream",
          "text": [
            "Using TensorFlow backend.\n"
          ],
          "name": "stderr"
        },
        {
          "output_type": "stream",
          "text": [
            "[nltk_data] Downloading package stopwords to /root/nltk_data...\n",
            "[nltk_data]   Package stopwords is already up-to-date!\n"
          ],
          "name": "stdout"
        }
      ]
    },
    {
      "metadata": {
        "id": "AVINBDCVbDuW",
        "colab_type": "code",
        "colab": {}
      },
      "cell_type": "code",
      "source": [
        "(train_data, train_labels), (test_data, test_labels) = imdb.load_data(num_words=3000)\n",
        "word_to_index = imdb.get_word_index()"
      ],
      "execution_count": 0,
      "outputs": []
    },
    {
      "metadata": {
        "id": "E5ifnElAins7",
        "colab_type": "text"
      },
      "cell_type": "markdown",
      "source": [
        "## 2. Data preparation"
      ]
    },
    {
      "metadata": {
        "id": "UeQcXtUct-hI",
        "colab_type": "text"
      },
      "cell_type": "markdown",
      "source": [
        "### Reformating the reviews"
      ]
    },
    {
      "metadata": {
        "id": "zQHPWGMjit2o",
        "colab_type": "text"
      },
      "cell_type": "markdown",
      "source": [
        "There is not much data preparation to be done here because this Keras package does most of the work for us beforehand. However, it does a little too much preprocessing to our taste, because we are loading... numeric indices instead of words!"
      ]
    },
    {
      "metadata": {
        "id": "fQovK24TbwAA",
        "colab_type": "code",
        "outputId": "a871cce2-8385-4b32-8a32-53382d4c3cf1",
        "colab": {
          "base_uri": "https://localhost:8080/",
          "height": 54
        }
      },
      "cell_type": "code",
      "source": [
        "print(train_data[0])"
      ],
      "execution_count": 3,
      "outputs": [
        {
          "output_type": "stream",
          "text": [
            "[1, 14, 22, 16, 43, 530, 973, 1622, 1385, 65, 458, 2, 66, 2, 4, 173, 36, 256, 5, 25, 100, 43, 838, 112, 50, 670, 2, 9, 35, 480, 284, 5, 150, 4, 172, 112, 167, 2, 336, 385, 39, 4, 172, 2, 1111, 17, 546, 38, 13, 447, 4, 192, 50, 16, 6, 147, 2025, 19, 14, 22, 4, 1920, 2, 469, 4, 22, 71, 87, 12, 16, 43, 530, 38, 76, 15, 13, 1247, 4, 22, 17, 515, 17, 12, 16, 626, 18, 2, 5, 62, 386, 12, 8, 316, 8, 106, 5, 4, 2223, 2, 16, 480, 66, 2, 33, 4, 130, 12, 16, 38, 619, 5, 25, 124, 51, 36, 135, 48, 25, 1415, 33, 6, 22, 12, 215, 28, 77, 52, 5, 14, 407, 16, 82, 2, 8, 4, 107, 117, 2, 15, 256, 4, 2, 7, 2, 5, 723, 36, 71, 43, 530, 476, 26, 400, 317, 46, 7, 4, 2, 1029, 13, 104, 88, 4, 381, 15, 297, 98, 32, 2071, 56, 26, 141, 6, 194, 2, 18, 4, 226, 22, 21, 134, 476, 26, 480, 5, 144, 30, 2, 18, 51, 36, 28, 224, 92, 25, 104, 4, 226, 65, 16, 38, 1334, 88, 12, 16, 283, 5, 16, 2, 113, 103, 32, 15, 16, 2, 19, 178, 32]\n"
          ],
          "name": "stdout"
        }
      ]
    },
    {
      "metadata": {
        "id": "pWb2sw0Zj5Wb",
        "colab_type": "text"
      },
      "cell_type": "markdown",
      "source": [
        "This is because Keras has already done a word-to-index matching, referenced in the word_map dictionary we loaded above. Let us map the indices back to words to get an idea what these reviews actually look like."
      ]
    },
    {
      "metadata": {
        "id": "EGhRk-6pqFxu",
        "colab_type": "code",
        "colab": {}
      },
      "cell_type": "code",
      "source": [
        "word_to_index = dict([(key,(value+3)) for key,value in word_to_index.items()]) \n",
        "word_to_index[\"<PAD>\"] = 0\n",
        "word_to_index[\"<START>\"] = 1\n",
        "word_to_index[\"<UNK>\"] = 2  # unknown\n",
        "word_to_index[\"<UNUSED>\"] = 3\n",
        "\n",
        "index_to_word = dict([(value, key) for (key, value) in word_to_index.items()])"
      ],
      "execution_count": 0,
      "outputs": []
    },
    {
      "metadata": {
        "id": "SuvF6azPlob2",
        "colab_type": "code",
        "colab": {}
      },
      "cell_type": "code",
      "source": [
        "def to_words(review):\n",
        "  return [index_to_word[i] for i in review]"
      ],
      "execution_count": 0,
      "outputs": []
    },
    {
      "metadata": {
        "id": "B-wUw9Rhinh6",
        "colab_type": "text"
      },
      "cell_type": "markdown",
      "source": [
        "This is what the index list above looks like... slightly more intuitive! It can easily be seen that the label will be 1 (positive) because of the presence of words like \"brilliant\", \"amazing\", \"loved\", \"great\", \" would recommend\", \"lovely\" etc."
      ]
    },
    {
      "metadata": {
        "id": "s75Cu0yZofxd",
        "colab_type": "code",
        "outputId": "8c82e400-7af7-4f8b-8ebf-b21efcaa334e",
        "colab": {
          "base_uri": "https://localhost:8080/",
          "height": 71
        }
      },
      "cell_type": "code",
      "source": [
        "print('label: %s' % train_labels[0])\n",
        "print('review: %s' % ' '.join(to_words(train_data[0])))"
      ],
      "execution_count": 6,
      "outputs": [
        {
          "output_type": "stream",
          "text": [
            "label: 1\n",
            "review: <START> this film was just brilliant casting location scenery story direction <UNK> really <UNK> the part they played and you could just imagine being there robert <UNK> is an amazing actor and now the same being director <UNK> father came from the same <UNK> island as myself so i loved the fact there was a real connection with this film the witty <UNK> throughout the film were great it was just brilliant so much that i bought the film as soon as it was released for <UNK> and would recommend it to everyone to watch and the fly <UNK> was amazing really <UNK> at the end it was so sad and you know what they say if you cry at a film it must have been good and this definitely was also <UNK> to the two little <UNK> that played the <UNK> of <UNK> and paul they were just brilliant children are often left out of the <UNK> list i think because the stars that play them all grown up are such a big <UNK> for the whole film but these children are amazing and should be <UNK> for what they have done don't you think the whole story was so lovely because it was true and was <UNK> life after all that was <UNK> with us all\n"
          ],
          "name": "stdout"
        }
      ]
    },
    {
      "metadata": {
        "id": "yA0Xj_SryHJr",
        "colab_type": "text"
      },
      "cell_type": "markdown",
      "source": [
        "We could work directly with vectors of indices (this is actually the intention of the Keras data set). However, this is limiting in terms of preprocessing, and so let us convert the data back to words like above."
      ]
    },
    {
      "metadata": {
        "id": "olYquP6JWPMO",
        "colab_type": "code",
        "colab": {}
      },
      "cell_type": "code",
      "source": [
        "train_reviews = np.array([to_words(review) for review in train_data])\n",
        "test_reviews = np.array([to_words(review) for review in test_data])"
      ],
      "execution_count": 0,
      "outputs": []
    },
    {
      "metadata": {
        "id": "Ijxh8Ssju91u",
        "colab_type": "text"
      },
      "cell_type": "markdown",
      "source": [
        "### Quick data exploration"
      ]
    },
    {
      "metadata": {
        "id": "3OIfmXu_mFDQ",
        "colab_type": "text"
      },
      "cell_type": "markdown",
      "source": [
        "Let us quickly check if the train data is balanced between negative and positive reviews:"
      ]
    },
    {
      "metadata": {
        "id": "68aMf5u9i4Ao",
        "colab_type": "code",
        "outputId": "1ccf3dc5-c7f1-4588-e757-ea518b9b10aa",
        "colab": {
          "base_uri": "https://localhost:8080/",
          "height": 85
        }
      },
      "cell_type": "code",
      "source": [
        "print('Number of positive reviews in the train data: %i' % sum(train_labels==1))\n",
        "print('Number of negative reviews in the train data: %i' % sum(train_labels==0))\n",
        "\n",
        "if sum(train_labels==1) == sum(train_labels ==0):\n",
        "  print('\\n The data is perfectly balanced!')\n",
        "else:\n",
        "  print('\\n The data is not balanced')"
      ],
      "execution_count": 8,
      "outputs": [
        {
          "output_type": "stream",
          "text": [
            "Number of positive reviews in the train data: 12500\n",
            "Number of negative reviews in the train data: 12500\n",
            "\n",
            " The data is perfectly balanced!\n"
          ],
          "name": "stdout"
        }
      ]
    },
    {
      "metadata": {
        "id": "0L0eP3N9pS1l",
        "colab_type": "text"
      },
      "cell_type": "markdown",
      "source": [
        "Now let us just analyze how many words these reviews usually have to get a rough idea of what we are actually talking about here!"
      ]
    },
    {
      "metadata": {
        "id": "Mh4XFP1av9sN",
        "colab_type": "code",
        "outputId": "031962dd-f502-441b-a7f2-444a145e779f",
        "colab": {
          "base_uri": "https://localhost:8080/",
          "height": 362
        }
      },
      "cell_type": "code",
      "source": [
        "length_reviews = np.array([len(review)-1 for review in train_data])\n",
        "\n",
        "plt.hist(length_reviews, bins = 50)\n",
        "plt.title(\"Length of reviews in train set (number of words)\")\n",
        "plt.show()"
      ],
      "execution_count": 9,
      "outputs": [
        {
          "output_type": "display_data",
          "data": {
            "image/png": "[encoded data removed]",
            "text/plain": [
              "<Figure size 576x396 with 1 Axes>"
            ]
          },
          "metadata": {
            "tags": []
          }
        }
      ]
    },
    {
      "metadata": {
        "id": "HROPk1sDwASF",
        "colab_type": "code",
        "outputId": "1d309144-a6af-40b8-d4ab-a1c1acf915f1",
        "colab": {
          "base_uri": "https://localhost:8080/",
          "height": 51
        }
      },
      "cell_type": "code",
      "source": [
        "print('On average, there are %i words in negative reviews' % np.mean(length_reviews[train_labels ==0]))\n",
        "print('On average, there are %i words in positive reviews' % np.mean(length_reviews[train_labels ==1]))"
      ],
      "execution_count": 10,
      "outputs": [
        {
          "output_type": "stream",
          "text": [
            "On average, there are 234 words in negative reviews\n",
            "On average, there are 240 words in positive reviews\n"
          ],
          "name": "stdout"
        }
      ]
    },
    {
      "metadata": {
        "id": "-11wZhA675_R",
        "colab_type": "text"
      },
      "cell_type": "markdown",
      "source": [
        "As we could have expected, positive reviews tend to be a little longer. More generally, we can see from the histogram that the vast majority of reviews contain less than 1000 words. \n",
        "\n",
        "Now that we are all set, let's go!"
      ]
    },
    {
      "metadata": {
        "id": "Hb8czRxx8rhw",
        "colab_type": "text"
      },
      "cell_type": "markdown",
      "source": [
        "## 3. Preparing the bag of words"
      ]
    },
    {
      "metadata": {
        "id": "tUx51ND98vLe",
        "colab_type": "text"
      },
      "cell_type": "markdown",
      "source": [
        "Bag of words (BoW) is the most essential feature in Natural Language Processing. Basically, it works like dissembling a Lego castle: you throw all the bricks in a box, and once everything is in the box, you don't care about which brick was where anymore. Same goes for bags of words, where all words are thrown into a bag without remembering where each word was located in the sentence. Then, we vectorize each bag of words (in our case, each review) by associating a frequency to each word. Good reviews will have larger frequencies for words like \"great\", bad reviews will have larger frequencies for words like \"disappointing\" etc.\n",
        "\n",
        "Before using the BoW, we need to make sure however each word is a uniform unit. Let us quickly go through a couple of text processing techniques for this purpose. "
      ]
    },
    {
      "metadata": {
        "id": "Gb2dObnWVWcM",
        "colab_type": "text"
      },
      "cell_type": "markdown",
      "source": [
        "### Length of the reviews"
      ]
    },
    {
      "metadata": {
        "id": "UArQOzUrVYge",
        "colab_type": "text"
      },
      "cell_type": "markdown",
      "source": [
        "As we've seen from the data exploration part, some reviews are really long and we probably do not need to analyse thousands of words to figure out what the sentiment of a review is. Let us cap the number of words we allow our reviews to have so that it gets easier to process the data (and more reasonable)."
      ]
    },
    {
      "metadata": {
        "id": "eF0ebD1HVxVM",
        "colab_type": "code",
        "colab": {}
      },
      "cell_type": "code",
      "source": [
        "cap = 500\n",
        "train_reviews = np.array([review[0:min(len(review),cap)] for review in train_reviews])\n",
        "test_reviews = np.array([review[0:min(len(review),cap)] for review in test_reviews])"
      ],
      "execution_count": 0,
      "outputs": []
    },
    {
      "metadata": {
        "id": "Oo6fOxIG-Opp",
        "colab_type": "text"
      },
      "cell_type": "markdown",
      "source": [
        "### Words format"
      ]
    },
    {
      "metadata": {
        "id": "e2dPrSUY-Tby",
        "colab_type": "text"
      },
      "cell_type": "markdown",
      "source": [
        "Easy! Keras has done everything for us already: the data is all lowercase, there are  no punctuation signs... Who could ask for more? Now, there are still numbers (like years etc) that we would like to remove because we don't want years to play a role in our analysis, but purely words."
      ]
    },
    {
      "metadata": {
        "id": "n0Ykk424VyNb",
        "colab_type": "code",
        "colab": {}
      },
      "cell_type": "code",
      "source": [
        "def remove_numeric(review):\n",
        "  return [word for word in review if word.isalpha()]"
      ],
      "execution_count": 0,
      "outputs": []
    },
    {
      "metadata": {
        "id": "7GVodAlcf1Wo",
        "colab_type": "code",
        "colab": {}
      },
      "cell_type": "code",
      "source": [
        "train_reviews = np.array([remove_numeric(review) for review in train_reviews])\n",
        "test_reviews = np.array([remove_numeric(review) for review in test_reviews])"
      ],
      "execution_count": 0,
      "outputs": []
    },
    {
      "metadata": {
        "id": "A5tu7fat9wmU",
        "colab_type": "text"
      },
      "cell_type": "markdown",
      "source": [
        "### Stopwords"
      ]
    },
    {
      "metadata": {
        "id": "GTTIkfbm-0t-",
        "colab_type": "text"
      },
      "cell_type": "markdown",
      "source": [
        "Stopwords are words we decide to eliminate from the bag of words because we decide they are not relevant. First, let us eliminate the four words we introduced in the Data Processing step. Then, we can also add english stopwords (\"he\", \"be\", \"i\" etc). This step does not necessarily help, so we'll try with and without later on. "
      ]
    },
    {
      "metadata": {
        "id": "nTEWXime_UhP",
        "colab_type": "code",
        "colab": {}
      },
      "cell_type": "code",
      "source": [
        "stopwords_keras = ['<PAD>','<START>','<UNK>','<UNUSED>']\n",
        "stopwords_english = stopwords.words('english')"
      ],
      "execution_count": 0,
      "outputs": []
    },
    {
      "metadata": {
        "id": "Trxf7aqY7fuf",
        "colab_type": "code",
        "colab": {}
      },
      "cell_type": "code",
      "source": [
        "def remove_stopwords(review):\n",
        "  return [word for word in review if review not in stopwords_keras]"
      ],
      "execution_count": 0,
      "outputs": []
    },
    {
      "metadata": {
        "id": "GbQHYyO57qAx",
        "colab_type": "code",
        "colab": {}
      },
      "cell_type": "code",
      "source": [
        "train_reviews = np.array([remove_stopwords(review) for review in train_reviews])\n",
        "test_reviews = np.array([remove_stopwords(review) for review in test_reviews])"
      ],
      "execution_count": 0,
      "outputs": []
    },
    {
      "metadata": {
        "id": "im0pnPIwawsi",
        "colab_type": "text"
      },
      "cell_type": "markdown",
      "source": [
        "### Stemming"
      ]
    },
    {
      "metadata": {
        "id": "jRkyTH9EayxI",
        "colab_type": "text"
      },
      "cell_type": "markdown",
      "source": [
        "Stemming... Stemming is a really nice idea. Shouldn't \"loving\" and \"love\" be considered as the same word because they convey the same meaning? Stemmers aim to remove grammatical suffixes and reduce words to their roots. There are several stemming algorithms out there. The SnowballStemmer from nltk is widely used, but you might prefer other algorithms. \n",
        "\n",
        "However sensible this may sound, using stemming does not always improve model performance that significantly. We'll see for ourselves if this adds anything for our project!"
      ]
    },
    {
      "metadata": {
        "id": "Cp0nF_gqbW6B",
        "colab_type": "code",
        "outputId": "998abbea-864d-41c4-e5c9-4e1a52d0cc40",
        "colab": {
          "base_uri": "https://localhost:8080/",
          "height": 34
        }
      },
      "cell_type": "code",
      "source": [
        "stemmer = SnowballStemmer(\"english\")\n",
        "print(stemmer.stem('loving'))"
      ],
      "execution_count": 17,
      "outputs": [
        {
          "output_type": "stream",
          "text": [
            "love\n"
          ],
          "name": "stdout"
        }
      ]
    },
    {
      "metadata": {
        "id": "hwUzZ3fhci_7",
        "colab_type": "code",
        "colab": {}
      },
      "cell_type": "code",
      "source": [
        "def stemming(review):\n",
        "  return [stemmer.stem(word) for word in review]"
      ],
      "execution_count": 0,
      "outputs": []
    },
    {
      "metadata": {
        "id": "u7fgCsP3eiq9",
        "colab_type": "code",
        "colab": {}
      },
      "cell_type": "code",
      "source": [
        "train_reviews_stemmed = np.array([stemming(review) for review in train_reviews])\n",
        "test_reviews_stemmed = np.array([stemming(review) for review in test_reviews])\n",
        "\n",
        "train_reviews = np.array([' '.join(review) for review in train_reviews])\n",
        "test_reviews = np.array([' '.join(review) for review in test_reviews])\n",
        "train_reviews_stemmed = np.array([' '.join(review) for review in train_reviews_stemmed])\n",
        "test_reviews_stemmed = np.array([' '.join(review) for review in test_reviews_stemmed])"
      ],
      "execution_count": 0,
      "outputs": []
    },
    {
      "metadata": {
        "id": "OSNtZgs9NPAv",
        "colab_type": "text"
      },
      "cell_type": "markdown",
      "source": [
        "## 4. Classification with the Logistic Regression"
      ]
    },
    {
      "metadata": {
        "id": "cvjE_h97NXg-",
        "colab_type": "text"
      },
      "cell_type": "markdown",
      "source": [
        "Now that we have preprocessed the review data, we are ready to start with the modeling part. In this project, we will use the Logistic Regression for this. We will follow a two step approach:\n",
        "\n",
        "- First, we need to convert our Bag of Words to a vectorized form. Intuitively, it is like assigning frequencies to each word of our sentences and putting them together in one long (very long) vector. Here, instead of just computing a word count, we will use the celebrated Tf-idf vectorizer, which also takes into account how often a word appears in other reviews. \n",
        "\n",
        "- Once this is done, these vectorized versions of the reviews are pushed to our Logistic Regression model. \n",
        "\n",
        "To optimize the performance of our model, we will gridsearch the best parameters:\n",
        "\n",
        "- For the Tf-idf vectorization\n",
        "\n",
        "  - n_gram_range: on how many successive words the vectorization is being performed - what size of ngrams we allow\n",
        "  - min_df: in how many documents at least can each word ngram appear\n",
        "  - max_df: in how many documents at most can each word can appear\n",
        "  - stop_words: whether we use the stopword list we defined above\n",
        " \n",
        " \n",
        " - For the Logistic Regression\n",
        " \n",
        "  - C: how strong the regularization of the logistic regression should be\n",
        "\n",
        "\n",
        "These two steps are put together in a sklearn pipeline. We will train this pipeline on the non-stemmed data first and run the gridsearch on this dataset."
      ]
    },
    {
      "metadata": {
        "id": "ZNOuAgFI8pZ0",
        "colab_type": "code",
        "colab": {}
      },
      "cell_type": "code",
      "source": [
        "pipe = make_pipeline(TfidfVectorizer(), LogisticRegression(solver = 'lbfgs'), memory = \"cache_folder\")\n",
        "param_grid = {\"tfidfvectorizer__ngram_range\" : [(1,1),(1,2),(1,3)], \n",
        "              \"tfidfvectorizer__min_df\" : [0.025,0.05],\n",
        "              \"tfidfvectorizer__max_df\" : [0.9,0.8],\n",
        "              \"tfidfvectorizer__stop_words\" : [None, stopwords_english],\n",
        "              \"logisticregression__C\" : [0.1,1]}"
      ],
      "execution_count": 0,
      "outputs": []
    },
    {
      "metadata": {
        "id": "oqiRGRWaxHOA",
        "colab_type": "text"
      },
      "cell_type": "markdown",
      "source": [
        "### Non-stemmed reviews"
      ]
    },
    {
      "metadata": {
        "id": "DVDhC_7LAJ9w",
        "colab_type": "code",
        "outputId": "fbb2a17f-8d5e-447e-dad8-3db110da288e",
        "colab": {
          "base_uri": "https://localhost:8080/",
          "height": 224
        }
      },
      "cell_type": "code",
      "source": [
        "grid = GridSearchCV(pipe, param_grid, scoring = 'accuracy', cv = 3, return_train_score = False)\n",
        "grid.fit(train_reviews, train_labels)"
      ],
      "execution_count": 21,
      "outputs": [
        {
          "output_type": "execute_result",
          "data": {
            "text/plain": [
              "GridSearchCV(cv=3, error_score='raise-deprecating',\n",
              "       estimator=Pipeline(memory='cache_folder',\n",
              "     steps=[('tfidfvectorizer', TfidfVectorizer(analyzer='word', binary=False, decode_error='strict',\n",
              "        dtype=<class 'numpy.float64'>, encoding='utf-8', input='content',\n",
              "        lowercase=True, max_df=1.0, max_features=None, min_df=1,\n",
              "        ngram_range=(1, 1), norm='l2', preprocessor=None, smooth...enalty='l2', random_state=None, solver='lbfgs',\n",
              "          tol=0.0001, verbose=0, warm_start=False))]),\n",
              "       fit_params=None, iid='warn', n_jobs=None,\n",
              "       param_grid={'tfidfvectorizer__ngram_range': [(1, 1), (1, 2), (1, 3)], 'tfidfvectorizer__min_df': [0.025, 0.05], 'tfidfvectorizer__max_df': [0.9, 0.8], 'tfidfvectorizer__stop_words': [None, ['i', 'me', 'my', 'myself', 'we', 'our', 'ours', 'ourselves', 'you', \"you're\", \"you've\", \"you'll\", \"you'd\", 'yo...n't\", 'weren', \"weren't\", 'won', \"won't\", 'wouldn', \"wouldn't\"]], 'logisticregression__C': [0.1, 1]},\n",
              "       pre_dispatch='2*n_jobs', refit=True, return_train_score=False,\n",
              "       scoring='accuracy', verbose=0)"
            ]
          },
          "metadata": {
            "tags": []
          },
          "execution_count": 21
        }
      ]
    },
    {
      "metadata": {
        "id": "7AaRtBnCT0SW",
        "colab_type": "code",
        "outputId": "c7bd1392-0a12-4b99-9f1e-a22844cc07c9",
        "colab": {
          "base_uri": "https://localhost:8080/",
          "height": 34
        }
      },
      "cell_type": "code",
      "source": [
        "best_score_non_stemmed = grid.best_score_\n",
        "print(\"The logistic regression achieves a %0.2f accuracy on the validation set\" % best_score_non_stemmed)"
      ],
      "execution_count": 22,
      "outputs": [
        {
          "output_type": "stream",
          "text": [
            "The logistic regression achieves a 0.85 accuracy on the validation set\n"
          ],
          "name": "stdout"
        }
      ]
    },
    {
      "metadata": {
        "id": "40GAuQnr6xI7",
        "colab_type": "text"
      },
      "cell_type": "markdown",
      "source": [
        "Our logistic regression achieved 85% accuracy on the validation set, which is good given that this is using only a linear model!\n",
        "It is achieved for the following parameters:"
      ]
    },
    {
      "metadata": {
        "id": "ctMKcmGheSuv",
        "colab_type": "code",
        "outputId": "9d88a541-beb6-4c80-e2cf-4fe02dc923ac",
        "colab": {
          "base_uri": "https://localhost:8080/",
          "height": 204
        }
      },
      "cell_type": "code",
      "source": [
        "best_params_non_stemmed = grid.best_params_\n",
        "pd.DataFrame({\"parameter\": list(best_params_non_stemmed.keys()), \"best value\": list(best_params_non_stemmed.values())})[[\"parameter\",\"best value\"]]"
      ],
      "execution_count": 23,
      "outputs": [
        {
          "output_type": "execute_result",
          "data": {
            "text/html": [
              "<div>\n",
              "<style scoped>\n",
              "    .dataframe tbody tr th:only-of-type {\n",
              "        vertical-align: middle;\n",
              "    }\n",
              "\n",
              "    .dataframe tbody tr th {\n",
              "        vertical-align: top;\n",
              "    }\n",
              "\n",
              "    .dataframe thead th {\n",
              "        text-align: right;\n",
              "    }\n",
              "</style>\n",
              "<table border=\"1\" class=\"dataframe\">\n",
              "  <thead>\n",
              "    <tr style=\"text-align: right;\">\n",
              "      <th></th>\n",
              "      <th>parameter</th>\n",
              "      <th>best value</th>\n",
              "    </tr>\n",
              "  </thead>\n",
              "  <tbody>\n",
              "    <tr>\n",
              "      <th>0</th>\n",
              "      <td>logisticregression__C</td>\n",
              "      <td>1</td>\n",
              "    </tr>\n",
              "    <tr>\n",
              "      <th>1</th>\n",
              "      <td>tfidfvectorizer__max_df</td>\n",
              "      <td>0.9</td>\n",
              "    </tr>\n",
              "    <tr>\n",
              "      <th>2</th>\n",
              "      <td>tfidfvectorizer__min_df</td>\n",
              "      <td>0.025</td>\n",
              "    </tr>\n",
              "    <tr>\n",
              "      <th>3</th>\n",
              "      <td>tfidfvectorizer__ngram_range</td>\n",
              "      <td>(1, 2)</td>\n",
              "    </tr>\n",
              "    <tr>\n",
              "      <th>4</th>\n",
              "      <td>tfidfvectorizer__stop_words</td>\n",
              "      <td>None</td>\n",
              "    </tr>\n",
              "  </tbody>\n",
              "</table>\n",
              "</div>"
            ],
            "text/plain": [
              "                      parameter best value\n",
              "0         logisticregression__C          1\n",
              "1       tfidfvectorizer__max_df        0.9\n",
              "2       tfidfvectorizer__min_df      0.025\n",
              "3  tfidfvectorizer__ngram_range     (1, 2)\n",
              "4   tfidfvectorizer__stop_words       None"
            ]
          },
          "metadata": {
            "tags": []
          },
          "execution_count": 23
        }
      ]
    },
    {
      "metadata": {
        "id": "m7UluzHAueog",
        "colab_type": "code",
        "outputId": "1352b75f-7c4b-4eac-fc92-7fc52d380d68",
        "colab": {
          "base_uri": "https://localhost:8080/",
          "height": 731
        }
      },
      "cell_type": "code",
      "source": [
        "grid_results = pd.DataFrame(grid.cv_results_)\n",
        "grid_results[\"param_tfidfvectorizer__stop_words\"] = grid_results[\"param_tfidfvectorizer__stop_words\"].apply(\n",
        "    lambda x : \"remove stopwords\" if x else \"with stopwords\")\n",
        "parameter_names = [\"param_logisticregression__C\", \"param_tfidfvectorizer__max_df\", \"param_tfidfvectorizer__min_df\",\n",
        "                  \"param_tfidfvectorizer__ngram_range\", \"param_tfidfvectorizer__stop_words\"]\n",
        "\n",
        "fig, axes = plt.subplots(2,3, figsize = (15,10))\n",
        "axes_list = axes.ravel()\n",
        "axes[-1, -1].axis('off')\n",
        "fig.suptitle(\"Average validation score for each choice of parameter\")\n",
        "for i in range(5):\n",
        "    sns.boxplot(x=parameter_names[i], y=\"mean_test_score\", data=grid_results, ax = axes_list[i])\n",
        "    axes_list[i].set_xlabel(parameter_names[i].split(\"_\",1)[1])"
      ],
      "execution_count": 24,
      "outputs": [
        {
          "output_type": "stream",
          "text": [
            "/usr/local/lib/python3.6/dist-packages/seaborn/categorical.py:454: FutureWarning: remove_na is deprecated and is a private function. Do not use.\n",
            "  box_data = remove_na(group_data)\n"
          ],
          "name": "stderr"
        },
        {
          "output_type": "display_data",
          "data": {
            "image/png": "[encoded data removed]",
            "text/plain": [
              "<Figure size 1080x720 with 6 Axes>"
            ]
          },
          "metadata": {
            "tags": []
          }
        }
      ]
    },
    {
      "metadata": {
        "id": "l-A0Qv2n2szq",
        "colab_type": "text"
      },
      "cell_type": "markdown",
      "source": [
        "The results of the gridsearch highlighted in these boxplots allow us to draw the following conclusions:\n",
        "\n",
        "- The logistic regression works best with less regularization. In other words, it is beneficial to assign weights to a large number of words\n",
        "- Ignoring words appearing with a low frequency in the reviews results in much poorer prediction accuracy\n",
        "- On the other hand, removing words that appear with a very high frequency in the reviews does not impact our prediction accuracy\n",
        "- Adding bigrams to the word vectorization improves the model, but increasing it further to trigrams does not\n",
        "- Removing stopwords impacts prediction accuracy negatively"
      ]
    },
    {
      "metadata": {
        "id": "3e8P66ZbwyGY",
        "colab_type": "code",
        "colab": {}
      },
      "cell_type": "code",
      "source": [
        "pipe_best = make_pipeline(TfidfVectorizer(ngram_range = best_params_non_stemmed['tfidfvectorizer__ngram_range'],\n",
        "                                         max_df = best_params_non_stemmed['tfidfvectorizer__max_df'],\n",
        "                                         min_df = best_params_non_stemmed['tfidfvectorizer__min_df'],\n",
        "                                         stop_words = best_params_non_stemmed['tfidfvectorizer__stop_words']), \n",
        "                          LogisticRegression(solver = 'lbfgs', C = best_params_non_stemmed['logisticregression__C']), memory = \"cache_folder\")"
      ],
      "execution_count": 0,
      "outputs": []
    },
    {
      "metadata": {
        "id": "I0bH9mAN3U2Z",
        "colab_type": "text"
      },
      "cell_type": "markdown",
      "source": [
        "### Stemmed reviews\n",
        "\n",
        "Now, let us use the stemmed reviews. As mentioned above, it usually gives a small boost to Natural Language Processing. However, we will not go through the gridsearch process again for the stemmed reviews here. Of course, it can be done, but it is likely to bring little value for a lot of computational time (running the gridsearch above takes some time!). Instead, let us just compare how the best model identified above works."
      ]
    },
    {
      "metadata": {
        "id": "9rABMgTdznQ5",
        "colab_type": "code",
        "colab": {}
      },
      "cell_type": "code",
      "source": [
        "cross_val_stemmed = cross_validate(pipe_best, train_reviews_stemmed, train_labels, scoring = 'accuracy', cv = 3, return_train_score = False)"
      ],
      "execution_count": 0,
      "outputs": []
    },
    {
      "metadata": {
        "id": "POhabddg1fAc",
        "colab_type": "code",
        "outputId": "f350ad58-2361-4199-c0cd-b691cc0ca1b5",
        "colab": {
          "base_uri": "https://localhost:8080/",
          "height": 51
        }
      },
      "cell_type": "code",
      "source": [
        "cross_val_stemmed_score = np.mean(cross_val_stemmed['test_score'])\n",
        "print(\"Using stemming for the reviews, we now have a validation accuracy score of %0.2f\" %cross_val_stemmed_score)\n",
        "\n",
        "if cross_val_stemmed_score>best_score_non_stemmed:\n",
        "  print(\"Stemming has increased our prediction accuracy!\")\n",
        "else:\n",
        "  print(\"Stemming has decreased our prediction accuracy!\")\n"
      ],
      "execution_count": 27,
      "outputs": [
        {
          "output_type": "stream",
          "text": [
            "Using stemming for the reviews, we now have a validation accuracy score of 0.86\n",
            "Stemming has increased our prediction accuracy!\n"
          ],
          "name": "stdout"
        }
      ]
    },
    {
      "metadata": {
        "id": "p2U2WwjO8czW",
        "colab_type": "text"
      },
      "cell_type": "markdown",
      "source": [
        "As expected, stemming does increase our validation score a little, but the improvement is not that substantial either.\n",
        "\n",
        "Now, at this stage, we have finished building the model. We have found the parameters to use for the vectorization of our reviews, that it is better not to use stopwords, to use stemming, and that it is better not to use any regularization on the logistic regression."
      ]
    },
    {
      "metadata": {
        "id": "0XB-pPCr948C",
        "colab_type": "text"
      },
      "cell_type": "markdown",
      "source": [
        "## 5. Evaluating the results\n",
        "\n",
        "### Weights of the logistic regression"
      ]
    },
    {
      "metadata": {
        "id": "QeQkx_j_u3Q4",
        "colab_type": "text"
      },
      "cell_type": "markdown",
      "source": [
        "The reason why Logistic Regression is such a nice tool for NLP problems is that you can quantify how much each word contributes to a negative or a positive sentiment. This is done thanks to the weights that get assigned to each of the words after the vectorization. Let us look at it on the non-stemmed dataset, as it is slightly more readable!"
      ]
    },
    {
      "metadata": {
        "id": "cX4U8ppWNu4r",
        "colab_type": "code",
        "colab": {}
      },
      "cell_type": "code",
      "source": [
        "vect = TfidfVectorizer(ngram_range = best_params_non_stemmed['tfidfvectorizer__ngram_range'],\n",
        "                                         max_df = best_params_non_stemmed['tfidfvectorizer__max_df'],\n",
        "                                         min_df = best_params_non_stemmed['tfidfvectorizer__min_df'],\n",
        "                                         stop_words = best_params_non_stemmed['tfidfvectorizer__stop_words'])\n",
        "vect_train_reviews = vect.fit_transform(train_reviews)\n",
        "feature_names = vect.get_feature_names()\n",
        "\n",
        "lr = LogisticRegression(solver = \"lbfgs\", \n",
        "                        C = best_params_non_stemmed['logisticregression__C']).fit(vect_train_reviews, train_labels)"
      ],
      "execution_count": 0,
      "outputs": []
    },
    {
      "metadata": {
        "id": "53PCdFqtB4z-",
        "colab_type": "code",
        "outputId": "efdf2628-3ee4-42f3-b493-3eb6ddd084e8",
        "colab": {
          "base_uri": "https://localhost:8080/",
          "height": 441
        }
      },
      "cell_type": "code",
      "source": [
        "#All credits for this plot go to Prof A. Mueller, who teaches Applied Machine Learning at Columbia University\n",
        "def plot_important_features(coef, feature_names, top_n=20, ax=None, rotation=40):\n",
        "    if ax is None:\n",
        "        ax = plt.gca()\n",
        "    inds = np.argsort(coef)\n",
        "    low = inds[:top_n]\n",
        "    high = inds[-top_n:]\n",
        "    important = np.hstack([low, high])\n",
        "    myrange = range(len(important))\n",
        "    colors = ['red'] * top_n + ['blue'] * top_n\n",
        "    \n",
        "    ax.bar(myrange, coef[important], color=colors)\n",
        "    ax.set_xticks(myrange)\n",
        "    ax.set_xticklabels(feature_names[important], rotation=rotation, ha=\"right\")\n",
        "    ax.set_xlim(-.7, 2 * top_n)\n",
        "    ax.set_frame_on(False)\n",
        "\n",
        "    \n",
        "plt.figure(figsize=(15, 6))\n",
        "plot_important_features(lr.coef_.ravel(), np.array(feature_names), top_n=20, rotation=40)\n",
        "plt.title(\"Top 20 most and less significant words in the IMDB reviews\")"
      ],
      "execution_count": 29,
      "outputs": [
        {
          "output_type": "execute_result",
          "data": {
            "text/plain": [
              "Text(0.5, 1.0, 'Top 20 most and less significant words in the IMDB reviews')"
            ]
          },
          "metadata": {
            "tags": []
          },
          "execution_count": 29
        },
        {
          "output_type": "display_data",
          "data": {
            "image/png": "[encoded data removed]",
            "text/plain": [
              "<Figure size 1080x432 with 1 Axes>"
            ]
          },
          "metadata": {
            "tags": []
          }
        }
      ]
    },
    {
      "metadata": {
        "id": "53JhyCCVJAUw",
        "colab_type": "text"
      },
      "cell_type": "markdown",
      "source": [
        "All of this makes a lot of sense! Note that the vast majority of these words are unigrams, with the exception of \"the worst\" and \"the best\". This shows that the benefits of using bigrams is quite limited and that using a straightforward review vectorization could have worked just as well too."
      ]
    },
    {
      "metadata": {
        "colab_type": "text",
        "id": "KCFIRTxbGNw2"
      },
      "cell_type": "markdown",
      "source": [
        "Before wrapping it up, let us discuss the main downfall of this model (because yes, it has some...). Here are two reviews:"
      ]
    },
    {
      "metadata": {
        "id": "JI0tyj9y6sVO",
        "colab_type": "code",
        "colab": {
          "base_uri": "https://localhost:8080/",
          "height": 119
        },
        "outputId": "8c84b299-f230-4c0e-f235-ba8b1488b230"
      },
      "cell_type": "code",
      "source": [
        "pipe_best.fit(train_reviews_stemmed, train_labels)"
      ],
      "execution_count": 30,
      "outputs": [
        {
          "output_type": "execute_result",
          "data": {
            "text/plain": [
              "Pipeline(memory='cache_folder',\n",
              "     steps=[('tfidfvectorizer', TfidfVectorizer(analyzer='word', binary=False, decode_error='strict',\n",
              "        dtype=<class 'numpy.float64'>, encoding='utf-8', input='content',\n",
              "        lowercase=True, max_df=0.9, max_features=None, min_df=0.025,\n",
              "        ngram_range=(1, 2), norm='l2', preprocessor=None, sm...enalty='l2', random_state=None, solver='lbfgs',\n",
              "          tol=0.0001, verbose=0, warm_start=False))])"
            ]
          },
          "metadata": {
            "tags": []
          },
          "execution_count": 30
        }
      ]
    },
    {
      "metadata": {
        "colab_type": "code",
        "id": "WnKzH3QfGNw3",
        "colab": {}
      },
      "cell_type": "code",
      "source": [
        "reviews = [\"i loved this movie it was amazing\",\n",
        "           \"this movie was not good at all\"]"
      ],
      "execution_count": 0,
      "outputs": []
    },
    {
      "metadata": {
        "colab_type": "text",
        "id": "hGa-2qTkGNw4"
      },
      "cell_type": "markdown",
      "source": [
        "The first is straightforward. But the second expresses the opposite by a negation. As a result, there is still the word \"good\" in it, and our model is not great at understanding how \"not\" impacts \"good\" to reverse its meaning. Hence, the first review gets correctly labeled as positive with a probability of 97%, whereas the second review gets labeled as negative with only 51% probability."
      ]
    },
    {
      "metadata": {
        "colab_type": "code",
        "outputId": "d21fdfd6-1a4b-4099-f789-fef06ad33bf2",
        "id": "BsGJsjzfGNw5",
        "colab": {
          "base_uri": "https://localhost:8080/",
          "height": 51
        }
      },
      "cell_type": "code",
      "source": [
        "pipe_best.predict_proba(stemming(reviews))"
      ],
      "execution_count": 32,
      "outputs": [
        {
          "output_type": "execute_result",
          "data": {
            "text/plain": [
              "array([[0.02691319, 0.97308681],\n",
              "       [0.51140313, 0.48859687]])"
            ]
          },
          "metadata": {
            "tags": []
          },
          "execution_count": 32
        }
      ]
    },
    {
      "metadata": {
        "colab_type": "text",
        "id": "zXObumRyGNxF"
      },
      "cell_type": "markdown",
      "source": [
        "This illustrates that our model is only looking at word blocks, but is not able to retrieve any semantic from the syntax of the reviews. It is the main downside of this model."
      ]
    },
    {
      "metadata": {
        "id": "61PZ9LS8KYfE",
        "colab_type": "text"
      },
      "cell_type": "markdown",
      "source": [
        "### Testing the model\n",
        "\n",
        "In the previous steps, we have evaluated our model using cross validation. This has allowed to identify what modeling steps yielded the best results. Now, let us see how our model performs with reviews from the test set."
      ]
    },
    {
      "metadata": {
        "id": "CmdE6lV4LXxY",
        "colab_type": "code",
        "outputId": "66652b6c-c1e1-4b23-9ac2-8e5c56878fd2",
        "colab": {
          "base_uri": "https://localhost:8080/",
          "height": 34
        }
      },
      "cell_type": "code",
      "source": [
        "test_score = accuracy_score(test_labels, pipe_best.predict(test_reviews_stemmed))\n",
        "print(\"Our classifier has an accuracy of %0.2f on the test set\" % test_score)"
      ],
      "execution_count": 33,
      "outputs": [
        {
          "output_type": "stream",
          "text": [
            "Our classifier has an accuracy of 0.87 on the test set\n"
          ],
          "name": "stdout"
        }
      ]
    },
    {
      "metadata": {
        "id": "cIOTpoEQMfDs",
        "colab_type": "text"
      },
      "cell_type": "markdown",
      "source": [
        "This is really good isn't it? Just for fun, let us try out our model on two more Hitchcock reviews found online (both are very positive reviews)\n",
        "\n",
        "a) A review of Notorious (Alfred Hitchcock, 1946) by From Frank Cottrell Boyce, The Guardian 2012 (<a href = \"https://www.theguardian.com/film/2012/jun/17/my-favourite-hitchcock-film-notorious-frank-cottrell-boyce\">full review here</a>)\n",
        "\n",
        "\"Notorious is perfect. Everyone knows that. It's a testament to Ben Hecht's complex, headlong script that so many people have tried to rip it off and a testament to Hitchcock's genius that no one has ever succeeded. Take a look at the gabby, inconsequential, forgotten Mission Impossible: II and you'll see what I mean. The more obvious glories of Notorious include a revelatory performance from Cary Grant as the morally exhausted American agent Devlin, a terrifying Nazi-mother super-villain played by Leopoldine Konstantin and cinema's most cunningly prolonged kiss.\"\n",
        "\n",
        "b) A review of Vertigo (Alfred Hitchcock, 1958) by Peter Bradshaw, The Guardian 2018 (<a href = \"https://www.theguardian.com/film/2018/jul/12/vertigo-review-alfred-hitchcock-james-stewart-kim-novak\">full review here</a>)\n",
        "\n",
        "\"When I watched this again, I felt more strongly than ever that Hitchcock’s decision to give us a story in which the Clouzot-esque twist is given away well before the end is no misjudgment. It is a brilliant way of putting us inside Judy’s tormented, guilty soul, and of avoiding, just for a while, that male gaze. I also realised what it is Vertigo has been subtly reminding me of for many years: Graham Greene’s The End of the Affair. A treat to see this back on the big screen.\"\n"
      ]
    },
    {
      "metadata": {
        "colab_type": "code",
        "id": "rHD-kAt55jjz",
        "colab": {}
      },
      "cell_type": "code",
      "source": [
        "notorious_review = \"Notorious is perfect. Everyone knows that. It's a testament to Ben Hecht's complex, headlong script that so many people have tried to rip it off and a testament to Hitchcock's genius that no one has ever succeeded. Take a look at the gabby, inconsequential, forgotten Mission Impossible: II and you'll see what I mean. The more obvious glories of Notorious include a revelatory performance from Cary Grant as the morally exhausted American agent Devlin, a terrifying Nazi-mother super-villain played by Leopoldine Konstantin and cinema's most cunningly prolonged kiss.\"\n",
        "vertigo_review = \"When I watched this again, I felt more strongly than ever that Hitchcock’s decision to give us a story in which the Clouzot-esque twist is given away well before the end is no misjudgment. It is a brilliant way of putting us inside Judy’s tormented, guilty soul, and of avoiding, just for a while, that male gaze. I also realised what it is Vertigo has been subtly reminding me of for many years: Graham Greene’s The End of the Affair. A treat to see this back on the big screen.\""
      ],
      "execution_count": 0,
      "outputs": []
    },
    {
      "metadata": {
        "colab_type": "code",
        "id": "rWgg_d9P5jj3",
        "colab": {}
      },
      "cell_type": "code",
      "source": [
        "hitchcock_reviews = [notorious_review, vertigo_review]\n",
        "hitchcock_reviews = [''.join(ch for ch in review.lower() if ch not in string.punctuation) for review in hitchcock_reviews]"
      ],
      "execution_count": 0,
      "outputs": []
    },
    {
      "metadata": {
        "colab_type": "code",
        "outputId": "898105b6-d56b-48a1-f40b-3e99a06f061f",
        "id": "5CnBNBEM5jj-",
        "colab": {
          "base_uri": "https://localhost:8080/",
          "height": 51
        }
      },
      "cell_type": "code",
      "source": [
        "pipe_best.predict_proba(stemming(hitchcock_reviews))"
      ],
      "execution_count": 36,
      "outputs": [
        {
          "output_type": "execute_result",
          "data": {
            "text/plain": [
              "array([[0.29270778, 0.70729222],\n",
              "       [0.0750691 , 0.9249309 ]])"
            ]
          },
          "metadata": {
            "tags": []
          },
          "execution_count": 36
        }
      ]
    },
    {
      "metadata": {
        "id": "eyOuW4FeR-wh",
        "colab_type": "text"
      },
      "cell_type": "markdown",
      "source": [
        "The Notorious review is labeled as positive with 71%, the Vertigo review gets labeled as positive with 92% probability. "
      ]
    },
    {
      "metadata": {
        "id": "KWu3NTBnMnqv",
        "colab_type": "text"
      },
      "cell_type": "markdown",
      "source": [
        "## 6. Conclusion\n",
        "\n",
        "In this post, we have gone through some of the most widely used Natural Language Processing techniques and trained a linear model to classify movie reviews. There are more fancy ways of doing this, and we will cover other techniques soon, but topics covered in this project are solid basics to start with and relatively easy to achieve.\n",
        "\n",
        "We achieved a 87% test accuracy. Even though there are some downfalls that we addressed, it is along the lines of what is usually achieved in other ML sources with a linear model."
      ]
    }
  ]
}